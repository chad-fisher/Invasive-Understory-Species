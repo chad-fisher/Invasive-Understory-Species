{
 "cells": [
  {
   "cell_type": "code",
   "execution_count": null,
   "id": "c31726be-4521-4f62-a073-063f8d28c823",
   "metadata": {},
   "outputs": [],
   "source": [
    "# This notebook cleans and combines the band data exported from Earth Engine and calculates vegetation indices. It is then saved as a shapefile\n",
    "# to be used in a harmonic regression. "
   ]
  },
  {
   "cell_type": "code",
   "execution_count": 91,
   "id": "c8091849-6ecf-4501-b1ed-06cd8d98d56e",
   "metadata": {},
   "outputs": [],
   "source": [
    "# Import packages\n",
    "import pycaret as pyc\n",
    "import pandas as pd\n",
    "import numpy as np\n",
    "import scipy\n",
    "import geopandas as gpd\n",
    "from datetime import datetime\n",
    "import matplotlib.pyplot as plt\n",
    "import seaborn as sns\n",
    "from pycaret.regression import *\n",
    "from pycaret.datasets import get_data\n",
    "from sklearn.linear_model import Lasso\n",
    "import pyglmnet\n",
    "import pyogrio\n",
    "from sklearn.metrics import mean_squared_error"
   ]
  },
  {
   "cell_type": "code",
   "execution_count": 4,
   "id": "1c4b6e6a-6083-42ea-9a45-565b2f8677b1",
   "metadata": {},
   "outputs": [
    {
     "name": "stdout",
     "output_type": "stream",
     "text": [
      "C:\\Users\\Chad\\Desktop\\CRWA Project\\Working_Data\n"
     ]
    }
   ],
   "source": [
    "# Working directory \n",
    "cd \"C:/Users/Chad/Desktop/CRWA Project/Working_Data\""
   ]
  },
  {
   "cell_type": "code",
   "execution_count": null,
   "id": "5e7479c2-95a9-4090-995e-5f945bc84305",
   "metadata": {},
   "outputs": [],
   "source": [
    "# Combining data for each band\n",
    "combined=pd.read_csv('B22023.csv')\n",
    "for band in ['B3','B4','B5','B6','B7','B8','B8A','B11','B12']:\n",
    "    current=pd.read_csv(band+'2023.csv')[[band]]\n",
    "    combined=pd.concat([combined, current], axis=1)"
   ]
  },
  {
   "cell_type": "code",
   "execution_count": null,
   "id": "01130998-2a0a-4850-9636-a91292b9f506",
   "metadata": {},
   "outputs": [],
   "source": [
    "# Fixing date information\n",
    "dates_list=['2023-01-09','2023-01-17','2023-01-27','2023-02-01','2023-02-03','2023-02-08','2023-02-11','2023-02-18',\n",
    "            '2023-03-05','2023-03-10','2023-03-18','2023-03-20','2023-03-30','2023-04-02','2023-04-04','2023-04-09',\n",
    "            '2023-04-12','2023-04-14','2023-04-24','2023-05-07','2023-05-09','2023-05-12','2023-05-14','2023-05-17',\n",
    "            '2023-05-19','2023-05-22','2023-05-24','2023-05-27','2023-05-29','2023-06-06','2023-06-11','2023-06-13',\n",
    "            '2023-06-16','2023-06-21','2023-06-23','2023-07-06','2023-07-08','2023-07-11','2023-07-13','2023-07-18',\n",
    "            '2023-07-23','2023-07-26','2023-07-28','2023-08-02','2023-08-05','2023-08-12','2023-08-20','2023-08-22',\n",
    "            '2023-09-01','2023-09-04','2023-09-06','2023-09-09','2023-09-14','2023-09-19','2023-09-21','2023-09-26',\n",
    "            '2023-10-01','2023-10-04','2023-10-09','2023-10-11','2023-10-14','2023-10-19','2023-10-24','2023-10-26',\n",
    "            '2023-10-31','2023-11-03','2023-11-05','2023-11-08','2023-11-13','2023-11-15','2023-11-20','2023-11-23',\n",
    "            '2023-11-25','2023-11-28','2023-11-30','2023-12-08','2023-12-13','2023-12-20','2023-12-23','2023-12-25']\n",
    "dates=pd.DataFrame(['2023-01-09','2023-01-17','2023-01-27','2023-02-01','2023-02-03','2023-02-08','2023-02-11','2023-02-18',\n",
    "            '2023-03-05','2023-03-10','2023-03-18','2023-03-20','2023-03-30','2023-04-02','2023-04-04','2023-04-09',\n",
    "            '2023-04-12','2023-04-14','2023-04-24','2023-05-07','2023-05-09','2023-05-12','2023-05-14','2023-05-17',\n",
    "            '2023-05-19','2023-05-22','2023-05-24','2023-05-27','2023-05-29','2023-06-06','2023-06-11','2023-06-13',\n",
    "            '2023-06-16','2023-06-21','2023-06-23','2023-07-06','2023-07-08','2023-07-11','2023-07-13','2023-07-18',\n",
    "            '2023-07-23','2023-07-26','2023-07-28','2023-08-02','2023-08-05','2023-08-12','2023-08-20','2023-08-22',\n",
    "            '2023-09-01','2023-09-04','2023-09-06','2023-09-09','2023-09-14','2023-09-19','2023-09-21','2023-09-26',\n",
    "            '2023-10-01','2023-10-04','2023-10-09','2023-10-11','2023-10-14','2023-10-19','2023-10-24','2023-10-26',\n",
    "            '2023-10-31','2023-11-03','2023-11-05','2023-11-08','2023-11-13','2023-11-15','2023-11-20','2023-11-23',\n",
    "            '2023-11-25','2023-11-28','2023-11-30','2023-12-08','2023-12-13','2023-12-20','2023-12-23','2023-12-25'])\n",
    "dates['id']=dates.index\n",
    "combined_wDates=combined.merge(dates,on='id')"
   ]
  },
  {
   "cell_type": "code",
   "execution_count": null,
   "id": "211f77f9-e7bc-4b86-abd6-883ff7207e18",
   "metadata": {},
   "outputs": [],
   "source": [
    "# Convert into geodataframe\n",
    "combined_wDates['time']=combined_wDates[0]\n",
    "gdf = gpd.GeoDataFrame(\n",
    "    combined_wDates, geometry=gpd.points_from_xy(combined_wDates.longitude, combined_wDates.latitude), crs=\"EPSG:4326\"\n",
    ")"
   ]
  },
  {
   "cell_type": "code",
   "execution_count": null,
   "id": "0f508219-27eb-421a-9f72-b6109289ed9f",
   "metadata": {},
   "outputs": [],
   "source": [
    "# Convert dates into day of year format\n",
    "gdf['DOY']=0\n",
    "for i in dates_list:\n",
    "    DOY=(datetime.fromisoformat(str(i))-datetime.fromisoformat('2023-01-01')).days\n",
    "    gdf['DOY'][gdf['time']==i]=DOY"
   ]
  },
  {
   "cell_type": "code",
   "execution_count": null,
   "id": "64a116c6-2ada-4981-834d-d14e3265600e",
   "metadata": {},
   "outputs": [],
   "source": [
    "# Generate scatterplot of each bands values\n",
    "for band in ['B2','B3','B4','B5','B6','B7','B8','B8A','B11','B12']:\n",
    "    sns.scatterplot(data=gdf,x='DOY',y=band)\n",
    "    plt.xticks(rotation=90)\n",
    "    plt.show()"
   ]
  },
  {
   "cell_type": "code",
   "execution_count": null,
   "id": "b295c723-3ca6-42ba-8746-dfa2b4ca20cd",
   "metadata": {},
   "outputs": [],
   "source": [
    "# Adds unique identifier for each point, and sorts values by the 80 dates for each point\n",
    "mygdf=gdf[['time','DOY','B2','B3','B4','B5','B6','B7','B8','B8A','B11','B12','geometry']]\n",
    "j=0\n",
    "mygdf['PtID']=0\n",
    "mygdf['PtID'] = mygdf.groupby(['geometry']).ngroup()\n",
    "mygdf=mygdf.sort_values(['PtID','time']).dropna()"
   ]
  },
  {
   "cell_type": "code",
   "execution_count": null,
   "id": "0c19708c-2702-4fb4-a48c-977a8ad6c04e",
   "metadata": {},
   "outputs": [],
   "source": [
    "# Calculate vegetation indices\n",
    "mygdf['NDVI']=(mygdf['B8']-mygdf['B4'])/(mygdf['B8']+mygdf['B4'])\n",
    "mygdf['NBR'] = (mygdf['B12']-mygdf['B8'])/(mygdf['B12']+mygdf['B8'])\n",
    "mygdf['SAVI'] = (1.5 * (mygdf['B8'] - mygdf['B4']) / (mygdf['B8'] + mygdf['B4'] + 0.5))\n",
    "mygdf['RENDVI'] = (mygdf['B6']-mygdf['B5'])/(mygdf['B6']+mygdf['B5'])\n",
    "mygdf['EVI'] = 2.5 * ((mygdf['B8'] - mygdf['B4']) / (mygdf['B8'] + 6 * mygdf['B4'] - 7.5 * mygdf['B2'] + 1))"
   ]
  },
  {
   "cell_type": "code",
   "execution_count": null,
   "id": "5ec6e891-abf5-4c12-af35-0af7dbea5762",
   "metadata": {},
   "outputs": [],
   "source": [
    "# Export to shapefile\n",
    "mygdf.to_file('2023BandsIndicesCleaned.shp')"
   ]
  },
  {
   "cell_type": "code",
   "execution_count": null,
   "id": "8f0a2859-9e09-4b05-bf39-8e09a2b5c7e9",
   "metadata": {},
   "outputs": [],
   "source": [
    "# Need to split number of points randomly into train and test?\n",
    "# P is total number of points, M is number of points for train dataset, N is number of points for test dataset\n",
    "rng = np.random.default_rng(seed=121)\n",
    "frac_test=0.3\n",
    "P=mygdf[['PtID']].drop_duplicates().size\n",
    "M=int(P*(1-frac_test))\n",
    "N=int(P*frac_test)"
   ]
  },
  {
   "cell_type": "code",
   "execution_count": null,
   "id": "29bf1772-371d-4ad9-a9ba-03d053e73261",
   "metadata": {},
   "outputs": [],
   "source": [
    "# Randomly select the PtIDs for the needed number of examples from the set for train\n",
    "train_indices=rng.choice(np.arange(0,P), size = M, replace = False, p = None)\n",
    "# The test indices are the other rows that were not selected\n",
    "test_indices=np.arange(0,P)[~np.isin(np.arange(0,P),train_indices)]"
   ]
  },
  {
   "cell_type": "code",
   "execution_count": null,
   "id": "e3bc3a5c-e400-4fa4-9394-e9f79baff53f",
   "metadata": {},
   "outputs": [],
   "source": [
    "train_indices"
   ]
  },
  {
   "cell_type": "code",
   "execution_count": null,
   "id": "4584136c-d385-4d29-a1a4-6e8ab5eaf666",
   "metadata": {},
   "outputs": [],
   "source": [
    "#Random splitting of points into test and train\n",
    "train_df=mygdf[mygdf['PtID'].isin(train_indices)]\n",
    "test_df=mygdf[mygdf['PtID'].isin(test_indices)]"
   ]
  },
  {
   "cell_type": "code",
   "execution_count": null,
   "id": "45d8c6bd-cea1-4925-ba4e-7c4142431291",
   "metadata": {},
   "outputs": [],
   "source": [
    "sns.scatterplot(data=test_df[test_df['PtID']==5],x='DOY',y='')"
   ]
  },
  {
   "cell_type": "code",
   "execution_count": null,
   "id": "9548b9a9-fbb2-44d0-8d66-20e8ac4512d3",
   "metadata": {},
   "outputs": [],
   "source": [
    "train=train_df[['DOY','B6']]\n",
    "test=test_df[['DOY','B6']]\n",
    "alldata=mygdf[['DOY','B6']]"
   ]
  },
  {
   "cell_type": "code",
   "execution_count": null,
   "id": "d4bf83ea-e820-4cd4-86a3-1082fed50bad",
   "metadata": {},
   "outputs": [],
   "source": [
    "comparemodels"
   ]
  },
  {
   "cell_type": "code",
   "execution_count": null,
   "id": "5d88464b-5cd7-4463-82f0-6c18e47c3aab",
   "metadata": {},
   "outputs": [],
   "source": [
    "sns.scatterplot(data=train,x='DOY',y='B6')\n",
    "sns.scatterplot(data=test,x='DOY',y='B6')"
   ]
  },
  {
   "cell_type": "code",
   "execution_count": null,
   "id": "3a95c89d-1150-46d2-b092-eb420abe2b0a",
   "metadata": {},
   "outputs": [],
   "source": [
    "plt.plot(X,best.predict(X))"
   ]
  },
  {
   "cell_type": "code",
   "execution_count": null,
   "id": "aa62f86b-c9b8-4b3a-b101-ef3f59fe98f3",
   "metadata": {},
   "outputs": [],
   "source": [
    "s=setup(data=train,test_data=test,target='NDVI',session_id = 123,index=False)"
   ]
  },
  {
   "cell_type": "code",
   "execution_count": null,
   "id": "7e36ef78-41f5-4ee4-b632-892413da35ad",
   "metadata": {},
   "outputs": [],
   "source": [
    "best = compare_models()"
   ]
  },
  {
   "cell_type": "code",
   "execution_count": null,
   "id": "78ef7a8f-0e29-475b-81b3-20f29deb57e0",
   "metadata": {},
   "outputs": [],
   "source": [
    "plot_model(best, plot = 'error')"
   ]
  },
  {
   "cell_type": "code",
   "execution_count": null,
   "id": "94247d22-958e-4196-9ab3-40aa0d06901b",
   "metadata": {},
   "outputs": [],
   "source": []
  }
 ],
 "metadata": {
  "kernelspec": {
   "display_name": "Python 3 (ipykernel)",
   "language": "python",
   "name": "python3"
  },
  "language_info": {
   "codemirror_mode": {
    "name": "ipython",
    "version": 3
   },
   "file_extension": ".py",
   "mimetype": "text/x-python",
   "name": "python",
   "nbconvert_exporter": "python",
   "pygments_lexer": "ipython3",
   "version": "3.11.7"
  }
 },
 "nbformat": 4,
 "nbformat_minor": 5
}

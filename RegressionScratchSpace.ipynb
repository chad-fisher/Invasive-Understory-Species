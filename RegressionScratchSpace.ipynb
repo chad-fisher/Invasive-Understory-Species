{
 "cells": [
  {
   "cell_type": "markdown",
   "id": "dec39a71-ba3a-4499-a6ca-a39d2a0aec35",
   "metadata": {},
   "source": [
    "#https://www.pycaret.org/tutorials/html/REG101.html"
   ]
  },
  {
   "cell_type": "code",
   "execution_count": 91,
   "id": "c8091849-6ecf-4501-b1ed-06cd8d98d56e",
   "metadata": {},
   "outputs": [],
   "source": [
    "import pycaret as pyc\n",
    "import pandas as pd\n",
    "import numpy as np\n",
    "import scipy\n",
    "import geopandas as gpd\n",
    "from datetime import datetime\n",
    "import matplotlib.pyplot as plt\n",
    "import seaborn as sns\n",
    "from pycaret.regression import *\n",
    "from pycaret.datasets import get_data\n",
    "from sklearn.linear_model import Lasso\n",
    "import pyglmnet\n",
    "import pyogrio\n",
    "from sklearn.metrics import mean_squared_error"
   ]
  },
  {
   "cell_type": "code",
   "execution_count": 4,
   "id": "1c4b6e6a-6083-42ea-9a45-565b2f8677b1",
   "metadata": {},
   "outputs": [
    {
     "name": "stdout",
     "output_type": "stream",
     "text": [
      "C:\\Users\\Chad\\Desktop\\CRWA Project\\Working_Data\n"
     ]
    }
   ],
   "source": [
    "cd \"C:/Users/Chad/Desktop/CRWA Project/Working_Data\""
   ]
  },
  {
   "cell_type": "markdown",
   "id": "c17d510a-b101-482a-a4f7-45f4aa6106db",
   "metadata": {},
   "source": [
    "# Cleaning Data"
   ]
  },
  {
   "cell_type": "code",
   "execution_count": null,
   "id": "5e7479c2-95a9-4090-995e-5f945bc84305",
   "metadata": {},
   "outputs": [],
   "source": [
    "combined=pd.read_csv('B22023.csv')\n",
    "for band in ['B3','B4','B5','B6','B7','B8','B8A','B11','B12']:\n",
    "    current=pd.read_csv(band+'2023.csv')[[band]]\n",
    "    combined=pd.concat([combined, current], axis=1)"
   ]
  },
  {
   "cell_type": "code",
   "execution_count": null,
   "id": "01130998-2a0a-4850-9636-a91292b9f506",
   "metadata": {},
   "outputs": [],
   "source": [
    "dates_list=['2023-01-09','2023-01-17','2023-01-27','2023-02-01','2023-02-03','2023-02-08','2023-02-11','2023-02-18',\n",
    "            '2023-03-05','2023-03-10','2023-03-18','2023-03-20','2023-03-30','2023-04-02','2023-04-04','2023-04-09',\n",
    "            '2023-04-12','2023-04-14','2023-04-24','2023-05-07','2023-05-09','2023-05-12','2023-05-14','2023-05-17',\n",
    "            '2023-05-19','2023-05-22','2023-05-24','2023-05-27','2023-05-29','2023-06-06','2023-06-11','2023-06-13',\n",
    "            '2023-06-16','2023-06-21','2023-06-23','2023-07-06','2023-07-08','2023-07-11','2023-07-13','2023-07-18',\n",
    "            '2023-07-23','2023-07-26','2023-07-28','2023-08-02','2023-08-05','2023-08-12','2023-08-20','2023-08-22',\n",
    "            '2023-09-01','2023-09-04','2023-09-06','2023-09-09','2023-09-14','2023-09-19','2023-09-21','2023-09-26',\n",
    "            '2023-10-01','2023-10-04','2023-10-09','2023-10-11','2023-10-14','2023-10-19','2023-10-24','2023-10-26',\n",
    "            '2023-10-31','2023-11-03','2023-11-05','2023-11-08','2023-11-13','2023-11-15','2023-11-20','2023-11-23',\n",
    "            '2023-11-25','2023-11-28','2023-11-30','2023-12-08','2023-12-13','2023-12-20','2023-12-23','2023-12-25']\n",
    "dates=pd.DataFrame(['2023-01-09','2023-01-17','2023-01-27','2023-02-01','2023-02-03','2023-02-08','2023-02-11','2023-02-18',\n",
    "            '2023-03-05','2023-03-10','2023-03-18','2023-03-20','2023-03-30','2023-04-02','2023-04-04','2023-04-09',\n",
    "            '2023-04-12','2023-04-14','2023-04-24','2023-05-07','2023-05-09','2023-05-12','2023-05-14','2023-05-17',\n",
    "            '2023-05-19','2023-05-22','2023-05-24','2023-05-27','2023-05-29','2023-06-06','2023-06-11','2023-06-13',\n",
    "            '2023-06-16','2023-06-21','2023-06-23','2023-07-06','2023-07-08','2023-07-11','2023-07-13','2023-07-18',\n",
    "            '2023-07-23','2023-07-26','2023-07-28','2023-08-02','2023-08-05','2023-08-12','2023-08-20','2023-08-22',\n",
    "            '2023-09-01','2023-09-04','2023-09-06','2023-09-09','2023-09-14','2023-09-19','2023-09-21','2023-09-26',\n",
    "            '2023-10-01','2023-10-04','2023-10-09','2023-10-11','2023-10-14','2023-10-19','2023-10-24','2023-10-26',\n",
    "            '2023-10-31','2023-11-03','2023-11-05','2023-11-08','2023-11-13','2023-11-15','2023-11-20','2023-11-23',\n",
    "            '2023-11-25','2023-11-28','2023-11-30','2023-12-08','2023-12-13','2023-12-20','2023-12-23','2023-12-25'])\n",
    "dates['id']=dates.index\n",
    "combined_wDates=combined.merge(dates,on='id')"
   ]
  },
  {
   "cell_type": "code",
   "execution_count": null,
   "id": "211f77f9-e7bc-4b86-abd6-883ff7207e18",
   "metadata": {},
   "outputs": [],
   "source": [
    "combined_wDates['time']=combined_wDates[0]\n",
    "gdf = gpd.GeoDataFrame(\n",
    "    combined_wDates, geometry=gpd.points_from_xy(combined_wDates.longitude, combined_wDates.latitude), crs=\"EPSG:4326\"\n",
    ")"
   ]
  },
  {
   "cell_type": "code",
   "execution_count": null,
   "id": "0f508219-27eb-421a-9f72-b6109289ed9f",
   "metadata": {},
   "outputs": [],
   "source": [
    "gdf['DOY']=0\n",
    "for i in dates_list:\n",
    "    DOY=(datetime.fromisoformat(str(i))-datetime.fromisoformat('2023-01-01')).days\n",
    "    gdf['DOY'][gdf['time']==i]=DOY"
   ]
  },
  {
   "cell_type": "code",
   "execution_count": null,
   "id": "64a116c6-2ada-4981-834d-d14e3265600e",
   "metadata": {},
   "outputs": [],
   "source": [
    "for band in ['B2','B3','B4','B5','B6','B7','B8','B8A','B11','B12']:\n",
    "    sns.scatterplot(data=gdf,x='DOY',y=band)\n",
    "    plt.xticks(rotation=90)\n",
    "    plt.show()"
   ]
  },
  {
   "cell_type": "code",
   "execution_count": null,
   "id": "b295c723-3ca6-42ba-8746-dfa2b4ca20cd",
   "metadata": {},
   "outputs": [],
   "source": [
    "# Adds unique identifier for each point, and sorts values by the 80 dates for each point\n",
    "mygdf=gdf[['time','DOY','B2','B3','B4','B5','B6','B7','B8','B8A','B11','B12','geometry']]\n",
    "j=0\n",
    "mygdf['PtID']=0\n",
    "mygdf['PtID'] = mygdf.groupby(['geometry']).ngroup()\n",
    "mygdf=mygdf.sort_values(['PtID','time']).dropna()"
   ]
  },
  {
   "cell_type": "code",
   "execution_count": null,
   "id": "0c19708c-2702-4fb4-a48c-977a8ad6c04e",
   "metadata": {},
   "outputs": [],
   "source": [
    "mygdf['NDVI']=(mygdf['B8']-mygdf['B4'])/(mygdf['B8']+mygdf['B4'])\n",
    "mygdf['NBR'] = (mygdf['B12']-mygdf['B8'])/(mygdf['B12']+mygdf['B8'])\n",
    "mygdf['SAVI'] = (1.5 * (mygdf['B8'] - mygdf['B4']) / (mygdf['B8'] + mygdf['B4'] + 0.5))\n",
    "mygdf['RENDVI'] = (mygdf['B6']-mygdf['B5'])/(mygdf['B6']+mygdf['B5'])\n",
    "mygdf['EVI'] = 2.5 * ((mygdf['B8'] - mygdf['B4']) / (mygdf['B8'] + 6 * mygdf['B4'] - 7.5 * mygdf['B2'] + 1))"
   ]
  },
  {
   "cell_type": "code",
   "execution_count": null,
   "id": "9959a2ec-00e7-4058-9ca0-e36e33eab8fb",
   "metadata": {},
   "outputs": [],
   "source": [
    "mygdf"
   ]
  },
  {
   "cell_type": "code",
   "execution_count": null,
   "id": "5ec6e891-abf5-4c12-af35-0af7dbea5762",
   "metadata": {},
   "outputs": [],
   "source": [
    "mygdf.to_file('2023BandsIndicesCleaned.shp')"
   ]
  },
  {
   "cell_type": "markdown",
   "id": "9a39f4a1-c443-434b-aa11-ca3398c23a0c",
   "metadata": {},
   "source": [
    "# Can just start from cleaned shapefile"
   ]
  },
  {
   "cell_type": "code",
   "execution_count": 5,
   "id": "c3cb1158-82c9-457f-ad20-6be1382db066",
   "metadata": {},
   "outputs": [],
   "source": [
    "mygdf=gpd.read_file('2023BandsIndicesCleaned.shp',engine=\"pyogrio\")"
   ]
  },
  {
   "cell_type": "code",
   "execution_count": 30,
   "id": "eeee9bc7-4b79-41fb-b95e-25b1ea634749",
   "metadata": {},
   "outputs": [
    {
     "data": {
      "text/plain": [
       "<Axes: xlabel='DOY', ylabel='NDVI'>"
      ]
     },
     "execution_count": 30,
     "metadata": {},
     "output_type": "execute_result"
    },
    {
     "data": {
      "image/png": "[encoded data removed]",
      "text/plain": [
       "<Figure size 800x550 with 1 Axes>"
      ]
     },
     "metadata": {},
     "output_type": "display_data"
    }
   ],
   "source": [
    "sns.scatterplot(mygdf[mygdf['PtID']==1],x='DOY',y='NDVI')"
   ]
  },
  {
   "cell_type": "code",
   "execution_count": 100,
   "id": "8211b423-1f24-4897-9ee6-3bbf2a58e97f",
   "metadata": {},
   "outputs": [],
   "source": [
    "def harmonicfunc(mult,one,two,x):\n",
    "    w=2*np.pi/365.25\n",
    "    return one*np.cos(mult*w*x)+two*np.sin(mult*w*x)"
   ]
  },
  {
   "cell_type": "code",
   "execution_count": 101,
   "id": "79065e78-4d04-4f8c-af6c-871a7126f7c9",
   "metadata": {},
   "outputs": [],
   "source": [
    "def myobj(x,a,b,c,d,e,f,g,h,i):  \n",
    "    return a+harmonicfunc(1,b,c,x)+harmonicfunc(2,d,e,x)+harmonicfunc(3,f,g,x)+harmonicfunc(4,h,i,x)"
   ]
  },
  {
   "cell_type": "code",
   "execution_count": 106,
   "id": "a8699023-c722-422a-b5d5-51b8b4c7b8e4",
   "metadata": {},
   "outputs": [],
   "source": [
    "def curvefit(PtID,band):\n",
    "    x=mygdf[mygdf['PtID']==PtID]['DOY']\n",
    "    y=mygdf[mygdf['PtID']==PtID][band]\n",
    "    popt,pcov=scipy.optimize.curve_fit(myobj, x,y)\n",
    "    yhat=myobj(x,popt[0],popt[1],popt[2],popt[3],popt[4],popt[5],popt[6],popt[7],popt[8])\n",
    "    RMSE=np.sqrt(mean_squared_error(y, yhat))\n",
    "    return RMSE,popt"
   ]
  },
  {
   "cell_type": "code",
   "execution_count": 124,
   "id": "47f58675-1cfe-4b84-a915-438d581031c4",
   "metadata": {},
   "outputs": [
    {
     "name": "stdout",
     "output_type": "stream",
     "text": [
      "[[0.]\n",
      " [0.]\n",
      " [0.]\n",
      " ...\n",
      " [0.]\n",
      " [0.]\n",
      " [0.]]\n",
      "[[0. 0. 0. ... 0. 0. 0.]\n",
      " [0. 0. 0. ... 0. 0. 0.]\n",
      " [0. 0. 0. ... 0. 0. 0.]\n",
      " ...\n",
      " [0. 0. 0. ... 0. 0. 0.]\n",
      " [0. 0. 0. ... 0. 0. 0.]\n",
      " [0. 0. 0. ... 0. 0. 0.]]\n"
     ]
    },
    {
     "ename": "KeyboardInterrupt",
     "evalue": "",
     "output_type": "error",
     "traceback": [
      "\u001b[1;31m---------------------------------------------------------------------------\u001b[0m",
      "\u001b[1;31mKeyboardInterrupt\u001b[0m                         Traceback (most recent call last)",
      "Cell \u001b[1;32mIn[124], line 8\u001b[0m\n\u001b[0;32m      6\u001b[0m \u001b[38;5;28mprint\u001b[39m(popt_res)\n\u001b[0;32m      7\u001b[0m \u001b[38;5;28;01mfor\u001b[39;00m i \u001b[38;5;129;01min\u001b[39;00m mygdf[\u001b[38;5;124m'\u001b[39m\u001b[38;5;124mPtID\u001b[39m\u001b[38;5;124m'\u001b[39m]:\n\u001b[1;32m----> 8\u001b[0m     RMSE_res[i,:],popt_res[i,:]\u001b[38;5;241m=\u001b[39mcurvefit(i,band)\n\u001b[0;32m      9\u001b[0m output_df[\u001b[38;5;124m'\u001b[39m\u001b[38;5;124mRMSE\u001b[39m\u001b[38;5;124m'\u001b[39m]\u001b[38;5;241m=\u001b[39mRMSE_res\n\u001b[0;32m     10\u001b[0m output_df[band\u001b[38;5;241m+\u001b[39m\u001b[38;5;124m'\u001b[39m\u001b[38;5;124ma\u001b[39m\u001b[38;5;124m'\u001b[39m]\u001b[38;5;241m=\u001b[39mpopt_res[:,\u001b[38;5;241m0\u001b[39m]\n",
      "Cell \u001b[1;32mIn[106], line 2\u001b[0m, in \u001b[0;36mcurvefit\u001b[1;34m(PtID, band)\u001b[0m\n\u001b[0;32m      1\u001b[0m \u001b[38;5;28;01mdef\u001b[39;00m \u001b[38;5;21mcurvefit\u001b[39m(PtID,band):\n\u001b[1;32m----> 2\u001b[0m     x\u001b[38;5;241m=\u001b[39mmygdf[mygdf[\u001b[38;5;124m'\u001b[39m\u001b[38;5;124mPtID\u001b[39m\u001b[38;5;124m'\u001b[39m]\u001b[38;5;241m==\u001b[39mPtID][\u001b[38;5;124m'\u001b[39m\u001b[38;5;124mDOY\u001b[39m\u001b[38;5;124m'\u001b[39m]\n\u001b[0;32m      3\u001b[0m     y\u001b[38;5;241m=\u001b[39mmygdf[mygdf[\u001b[38;5;124m'\u001b[39m\u001b[38;5;124mPtID\u001b[39m\u001b[38;5;124m'\u001b[39m]\u001b[38;5;241m==\u001b[39mPtID][band]\n\u001b[0;32m      4\u001b[0m     popt,pcov\u001b[38;5;241m=\u001b[39mscipy\u001b[38;5;241m.\u001b[39moptimize\u001b[38;5;241m.\u001b[39mcurve_fit(myobj, x,y)\n",
      "File \u001b[1;32mC:\\ProgramData\\anaconda3\\Lib\\site-packages\\pandas\\core\\ops\\common.py:76\u001b[0m, in \u001b[0;36m_unpack_zerodim_and_defer.<locals>.new_method\u001b[1;34m(self, other)\u001b[0m\n\u001b[0;32m     72\u001b[0m             \u001b[38;5;28;01mreturn\u001b[39;00m \u001b[38;5;28mNotImplemented\u001b[39m\n\u001b[0;32m     74\u001b[0m other \u001b[38;5;241m=\u001b[39m item_from_zerodim(other)\n\u001b[1;32m---> 76\u001b[0m \u001b[38;5;28;01mreturn\u001b[39;00m method(\u001b[38;5;28mself\u001b[39m, other)\n",
      "File \u001b[1;32mC:\\ProgramData\\anaconda3\\Lib\\site-packages\\pandas\\core\\arraylike.py:40\u001b[0m, in \u001b[0;36mOpsMixin.__eq__\u001b[1;34m(self, other)\u001b[0m\n\u001b[0;32m     38\u001b[0m \u001b[38;5;129m@unpack_zerodim_and_defer\u001b[39m(\u001b[38;5;124m\"\u001b[39m\u001b[38;5;124m__eq__\u001b[39m\u001b[38;5;124m\"\u001b[39m)\n\u001b[0;32m     39\u001b[0m \u001b[38;5;28;01mdef\u001b[39;00m \u001b[38;5;21m__eq__\u001b[39m(\u001b[38;5;28mself\u001b[39m, other):\n\u001b[1;32m---> 40\u001b[0m     \u001b[38;5;28;01mreturn\u001b[39;00m \u001b[38;5;28mself\u001b[39m\u001b[38;5;241m.\u001b[39m_cmp_method(other, operator\u001b[38;5;241m.\u001b[39meq)\n",
      "File \u001b[1;32mC:\\ProgramData\\anaconda3\\Lib\\site-packages\\pandas\\core\\series.py:5803\u001b[0m, in \u001b[0;36mSeries._cmp_method\u001b[1;34m(self, other, op)\u001b[0m\n\u001b[0;32m   5800\u001b[0m lvalues \u001b[38;5;241m=\u001b[39m \u001b[38;5;28mself\u001b[39m\u001b[38;5;241m.\u001b[39m_values\n\u001b[0;32m   5801\u001b[0m rvalues \u001b[38;5;241m=\u001b[39m extract_array(other, extract_numpy\u001b[38;5;241m=\u001b[39m\u001b[38;5;28;01mTrue\u001b[39;00m, extract_range\u001b[38;5;241m=\u001b[39m\u001b[38;5;28;01mTrue\u001b[39;00m)\n\u001b[1;32m-> 5803\u001b[0m res_values \u001b[38;5;241m=\u001b[39m ops\u001b[38;5;241m.\u001b[39mcomparison_op(lvalues, rvalues, op)\n\u001b[0;32m   5805\u001b[0m \u001b[38;5;28;01mreturn\u001b[39;00m \u001b[38;5;28mself\u001b[39m\u001b[38;5;241m.\u001b[39m_construct_result(res_values, name\u001b[38;5;241m=\u001b[39mres_name)\n",
      "File \u001b[1;32mC:\\ProgramData\\anaconda3\\Lib\\site-packages\\pandas\\core\\ops\\array_ops.py:349\u001b[0m, in \u001b[0;36mcomparison_op\u001b[1;34m(left, right, op)\u001b[0m\n\u001b[0;32m    346\u001b[0m     res_values \u001b[38;5;241m=\u001b[39m comp_method_OBJECT_ARRAY(op, lvalues, rvalues)\n\u001b[0;32m    348\u001b[0m \u001b[38;5;28;01melse\u001b[39;00m:\n\u001b[1;32m--> 349\u001b[0m     res_values \u001b[38;5;241m=\u001b[39m _na_arithmetic_op(lvalues, rvalues, op, is_cmp\u001b[38;5;241m=\u001b[39m\u001b[38;5;28;01mTrue\u001b[39;00m)\n\u001b[0;32m    351\u001b[0m \u001b[38;5;28;01mreturn\u001b[39;00m res_values\n",
      "File \u001b[1;32mC:\\ProgramData\\anaconda3\\Lib\\site-packages\\pandas\\core\\ops\\array_ops.py:220\u001b[0m, in \u001b[0;36m_na_arithmetic_op\u001b[1;34m(left, right, op, is_cmp)\u001b[0m\n\u001b[0;32m    217\u001b[0m     func \u001b[38;5;241m=\u001b[39m partial(expressions\u001b[38;5;241m.\u001b[39mevaluate, op)\n\u001b[0;32m    219\u001b[0m \u001b[38;5;28;01mtry\u001b[39;00m:\n\u001b[1;32m--> 220\u001b[0m     result \u001b[38;5;241m=\u001b[39m func(left, right)\n\u001b[0;32m    221\u001b[0m \u001b[38;5;28;01mexcept\u001b[39;00m \u001b[38;5;167;01mTypeError\u001b[39;00m:\n\u001b[0;32m    222\u001b[0m     \u001b[38;5;28;01mif\u001b[39;00m \u001b[38;5;129;01mnot\u001b[39;00m is_cmp \u001b[38;5;129;01mand\u001b[39;00m (\n\u001b[0;32m    223\u001b[0m         left\u001b[38;5;241m.\u001b[39mdtype \u001b[38;5;241m==\u001b[39m \u001b[38;5;28mobject\u001b[39m \u001b[38;5;129;01mor\u001b[39;00m \u001b[38;5;28mgetattr\u001b[39m(right, \u001b[38;5;124m\"\u001b[39m\u001b[38;5;124mdtype\u001b[39m\u001b[38;5;124m\"\u001b[39m, \u001b[38;5;28;01mNone\u001b[39;00m) \u001b[38;5;241m==\u001b[39m \u001b[38;5;28mobject\u001b[39m\n\u001b[0;32m    224\u001b[0m     ):\n\u001b[1;32m   (...)\u001b[0m\n\u001b[0;32m    227\u001b[0m         \u001b[38;5;66;03m# Don't do this for comparisons, as that will handle complex numbers\u001b[39;00m\n\u001b[0;32m    228\u001b[0m         \u001b[38;5;66;03m#  incorrectly, see GH#32047\u001b[39;00m\n",
      "File \u001b[1;32mC:\\ProgramData\\anaconda3\\Lib\\site-packages\\pandas\\core\\computation\\expressions.py:242\u001b[0m, in \u001b[0;36mevaluate\u001b[1;34m(op, a, b, use_numexpr)\u001b[0m\n\u001b[0;32m    239\u001b[0m \u001b[38;5;28;01mif\u001b[39;00m op_str \u001b[38;5;129;01mis\u001b[39;00m \u001b[38;5;129;01mnot\u001b[39;00m \u001b[38;5;28;01mNone\u001b[39;00m:\n\u001b[0;32m    240\u001b[0m     \u001b[38;5;28;01mif\u001b[39;00m use_numexpr:\n\u001b[0;32m    241\u001b[0m         \u001b[38;5;66;03m# error: \"None\" not callable\u001b[39;00m\n\u001b[1;32m--> 242\u001b[0m         \u001b[38;5;28;01mreturn\u001b[39;00m _evaluate(op, op_str, a, b)  \u001b[38;5;66;03m# type: ignore[misc]\u001b[39;00m\n\u001b[0;32m    243\u001b[0m \u001b[38;5;28;01mreturn\u001b[39;00m _evaluate_standard(op, op_str, a, b)\n",
      "File \u001b[1;32mC:\\ProgramData\\anaconda3\\Lib\\site-packages\\pandas\\core\\computation\\expressions.py:73\u001b[0m, in \u001b[0;36m_evaluate_standard\u001b[1;34m(op, op_str, a, b)\u001b[0m\n\u001b[0;32m     71\u001b[0m \u001b[38;5;28;01mif\u001b[39;00m _TEST_MODE:\n\u001b[0;32m     72\u001b[0m     _store_test_result(\u001b[38;5;28;01mFalse\u001b[39;00m)\n\u001b[1;32m---> 73\u001b[0m \u001b[38;5;28;01mreturn\u001b[39;00m op(a, b)\n",
      "\u001b[1;31mKeyboardInterrupt\u001b[0m: "
     ]
    }
   ],
   "source": [
    "for band in ['B2','B3','B4','B5','B6','B7','B8','B8A','B11','B12','NDVI','NBR','SAVI','RENDVI','EVI']:\n",
    "    output_df=mygdf[['PtID']]\n",
    "    RMSE_res=np.zeros((output_df.size,1))\n",
    "    popt_res=np.zeros((output_df.size,9))\n",
    "    for i in mygdf['PtID']:\n",
    "        RMSE_res[i,:],popt_res[i,:]=curvefit(i,band)\n",
    "    output_df['RMSE']=RMSE_res\n",
    "    output_df[band+'a']=popt_res[:,0]"
   ]
  },
  {
   "cell_type": "code",
   "execution_count": 108,
   "id": "8f6358de-779c-40a3-82df-2000f265b87a",
   "metadata": {},
   "outputs": [],
   "source": [
    "\n",
    "\n"
   ]
  },
  {
   "cell_type": "markdown",
   "id": "0261fde3-c33d-4f6f-af06-4ad941272612",
   "metadata": {
    "jp-MarkdownHeadingCollapsed": true
   },
   "source": [
    "# How do I get this into pycaret?"
   ]
  },
  {
   "cell_type": "code",
   "execution_count": null,
   "id": "8f0a2859-9e09-4b05-bf39-8e09a2b5c7e9",
   "metadata": {},
   "outputs": [],
   "source": [
    "# Need to split number of points randomly into train and test?\n",
    "# P is total number of points, M is number of points for train dataset, N is number of points for test dataset\n",
    "rng = np.random.default_rng(seed=121)\n",
    "frac_test=0.3\n",
    "P=mygdf[['PtID']].drop_duplicates().size\n",
    "M=int(P*(1-frac_test))\n",
    "N=int(P*frac_test)"
   ]
  },
  {
   "cell_type": "code",
   "execution_count": null,
   "id": "29bf1772-371d-4ad9-a9ba-03d053e73261",
   "metadata": {},
   "outputs": [],
   "source": [
    "# Randomly select the PtIDs for the needed number of examples from the set for train\n",
    "train_indices=rng.choice(np.arange(0,P), size = M, replace = False, p = None)\n",
    "# The test indices are the other rows that were not selected\n",
    "test_indices=np.arange(0,P)[~np.isin(np.arange(0,P),train_indices)]"
   ]
  },
  {
   "cell_type": "code",
   "execution_count": null,
   "id": "e3bc3a5c-e400-4fa4-9394-e9f79baff53f",
   "metadata": {},
   "outputs": [],
   "source": [
    "train_indices"
   ]
  },
  {
   "cell_type": "code",
   "execution_count": null,
   "id": "4584136c-d385-4d29-a1a4-6e8ab5eaf666",
   "metadata": {},
   "outputs": [],
   "source": [
    "#Random splitting of points into test and train\n",
    "train_df=mygdf[mygdf['PtID'].isin(train_indices)]\n",
    "test_df=mygdf[mygdf['PtID'].isin(test_indices)]"
   ]
  },
  {
   "cell_type": "code",
   "execution_count": null,
   "id": "45d8c6bd-cea1-4925-ba4e-7c4142431291",
   "metadata": {},
   "outputs": [],
   "source": [
    "sns.scatterplot(data=test_df[test_df['PtID']==5],x='DOY',y='')"
   ]
  },
  {
   "cell_type": "code",
   "execution_count": null,
   "id": "9548b9a9-fbb2-44d0-8d66-20e8ac4512d3",
   "metadata": {},
   "outputs": [],
   "source": [
    "train=train_df[['DOY','B6']]\n",
    "test=test_df[['DOY','B6']]\n",
    "alldata=mygdf[['DOY','B6']]"
   ]
  },
  {
   "cell_type": "markdown",
   "id": "2b715044-5718-4108-bd71-01ebf7e00b86",
   "metadata": {
    "jp-MarkdownHeadingCollapsed": true
   },
   "source": [
    "# Scratch Workspace"
   ]
  },
  {
   "cell_type": "code",
   "execution_count": null,
   "id": "d4bf83ea-e820-4cd4-86a3-1082fed50bad",
   "metadata": {},
   "outputs": [],
   "source": [
    "comparemodels"
   ]
  },
  {
   "cell_type": "code",
   "execution_count": null,
   "id": "5d88464b-5cd7-4463-82f0-6c18e47c3aab",
   "metadata": {},
   "outputs": [],
   "source": [
    "sns.scatterplot(data=train,x='DOY',y='B6')\n",
    "sns.scatterplot(data=test,x='DOY',y='B6')"
   ]
  },
  {
   "cell_type": "code",
   "execution_count": null,
   "id": "3a95c89d-1150-46d2-b092-eb420abe2b0a",
   "metadata": {},
   "outputs": [],
   "source": [
    "plt.plot(X,best.predict(X))"
   ]
  },
  {
   "cell_type": "code",
   "execution_count": null,
   "id": "aa62f86b-c9b8-4b3a-b101-ef3f59fe98f3",
   "metadata": {},
   "outputs": [],
   "source": [
    "s=setup(data=train,test_data=test,target='NDVI',session_id = 123,index=False)"
   ]
  },
  {
   "cell_type": "code",
   "execution_count": null,
   "id": "7e36ef78-41f5-4ee4-b632-892413da35ad",
   "metadata": {},
   "outputs": [],
   "source": [
    "best = compare_models()"
   ]
  },
  {
   "cell_type": "code",
   "execution_count": null,
   "id": "78ef7a8f-0e29-475b-81b3-20f29deb57e0",
   "metadata": {},
   "outputs": [],
   "source": [
    "plot_model(best, plot = 'error')"
   ]
  },
  {
   "cell_type": "code",
   "execution_count": null,
   "id": "94247d22-958e-4196-9ab3-40aa0d06901b",
   "metadata": {},
   "outputs": [],
   "source": []
  }
 ],
 "metadata": {
  "kernelspec": {
   "display_name": "Python 3 (ipykernel)",
   "language": "python",
   "name": "python3"
  },
  "language_info": {
   "codemirror_mode": {
    "name": "ipython",
    "version": 3
   },
   "file_extension": ".py",
   "mimetype": "text/x-python",
   "name": "python",
   "nbconvert_exporter": "python",
   "pygments_lexer": "ipython3",
   "version": "3.11.7"
  }
 },
 "nbformat": 4,
 "nbformat_minor": 5
}

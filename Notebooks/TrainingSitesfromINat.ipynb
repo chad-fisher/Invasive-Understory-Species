{
 "cells": [
  {
   "cell_type": "code",
   "execution_count": null,
   "id": "71f36761-3f9e-4f24-8322-5f334f235ba7",
   "metadata": {},
   "outputs": [],
   "source": [
    "# This notebook extracts invasive species observations from iNaturalist and saves them as shapefiles"
   ]
  },
  {
   "cell_type": "code",
   "execution_count": 1,
   "id": "b1f0bb72-6a7b-450c-9429-ec10a7176074",
   "metadata": {},
   "outputs": [],
   "source": [
    "#Import packages\n",
    "import pyinaturalist\n",
    "import pandas as pd\n",
    "import geopandas as gpd"
   ]
  },
  {
   "cell_type": "code",
   "execution_count": 2,
   "id": "b9929d8c-720f-47c4-ae90-9e1855e6e16b",
   "metadata": {},
   "outputs": [],
   "source": [
    "# Get observation function from pyinaturalist documentation (place_id = 2 for Massachusetts)\n",
    "def get_obs(years,taxon_id):\n",
    "  response=pyinaturalist.v1.observations.get_observations(year=years,taxon_id=taxon_id,geo=True,page='all',place_id=2)\n",
    "  my_observations = pyinaturalist.Observation.from_json_list(response)\n",
    "  df = pd.DataFrame(\n",
    "      [\n",
    "          {\n",
    "              'latitude': o.location[0],\n",
    "              'longitude': o.location[1],\n",
    "              'date': o.observed_on.isoformat()\n",
    "          }\n",
    "          for o in my_observations\n",
    "          if o.location\n",
    "      ]\n",
    "  )\n",
    "  return gpd.GeoDataFrame(\n",
    "      df, geometry=gpd.points_from_xy(df.longitude, df.latitude), crs=\"EPSG:4326\"\n",
    "  )"
   ]
  },
  {
   "cell_type": "code",
   "execution_count": 5,
   "id": "e745147d-c012-4c22-bfa3-284116222178",
   "metadata": {},
   "outputs": [],
   "source": [
    "#Extract geodataframes of species of interest\n",
    "years=[2021,2022,2023,2024]\n",
    "knotweed=914922\n",
    "bittersweet=64540\n",
    "buckthorn=55972\n",
    "euonymus=117433\n",
    "multiflora=78882\n",
    "corktree=166636\n",
    "porcelain=204237\n",
    "kudzu=62671\n",
    "barberry=58727\n",
    "greenbrier=60746\n",
    "laurel=49397\n",
    "\n",
    "\n",
    "knot_gdf=get_obs(years,knotweed)\n",
    "bitt_gdf=get_obs(years,bittersweet)\n",
    "buck_gdf=get_obs(years,buckthorn)\n",
    "euon_gdf=get_obs(years,euonymus)\n",
    "mult_gdf=get_obs(years,multiflora)\n",
    "cork_gdf=get_obs(years,corktree)\n",
    "porc_gdf=get_obs(years,porcelain)\n",
    "kudz_gdf=get_obs(years,kudzu)\n",
    "barb_gdf=get_obs(years,barberry)\n",
    "gree_gdf=get_obs(years,greenbrier)\n",
    "laur_gdf=get_obs(years,laurel)"
   ]
  },
  {
   "cell_type": "code",
   "execution_count": 12,
   "id": "4d745c45-6cfb-453f-bf9b-ead127b5fb21",
   "metadata": {},
   "outputs": [
    {
     "name": "stdout",
     "output_type": "stream",
     "text": [
      "[WinError 206] The filename or extension is too long: \"'C:/Users/Chad/Desktop/CRWA Project/CRWA-Regional-Tree-Planting-and-Protection-Plan/CRWA-Regional-Tree-Planting-and-Protection-Plan'\"\n",
      "C:\\Users\\Chad\\Desktop\\CRWA Project\\CRWA-Regional-Tree-Planting-and-Protection-Plan\\CRWA-Regional-Tree-Planting-and-Protection-Plan\\Notebooks\n"
     ]
    }
   ],
   "source": [
    "# Working directory\n",
    "cd 'C:/Users/Chad/Desktop/CRWA Project/CRWA-Regional-Tree-Planting-and-Protection-Plan/CRWA-Regional-Tree-Planting-and-Protection-Plan'"
   ]
  },
  {
   "cell_type": "code",
   "execution_count": 13,
   "id": "465cd616-d2cc-4d89-b22b-4fe9724560fe",
   "metadata": {},
   "outputs": [],
   "source": [
    "# Boston boundary for clipping\n",
    "towns=gpd.read_file('../../../Raw_Data/CENSUS2020TOWNS_SHP/CENSUS2020TOWNS_POLY.shp').to_crs(epsg=3857).dissolve('NAMELSAD20')\n",
    "Boston=towns[towns.index=='Boston city']"
   ]
  },
  {
   "cell_type": "code",
   "execution_count": 14,
   "id": "3e5634f7-4bba-463d-85e6-616a2fcf58d1",
   "metadata": {},
   "outputs": [
    {
     "name": "stderr",
     "output_type": "stream",
     "text": [
      "C:\\Users\\Chad\\AppData\\Roaming\\Python\\Python311\\site-packages\\geopandas\\io\\file.py:633: UserWarning: You are attempting to write an empty DataFrame to file. For some drivers, this operation may fail.\n",
      "  _to_file_fiona(df, filename, driver, schema, crs, mode, **kwargs)\n"
     ]
    }
   ],
   "source": [
    "# Clip and save off geodataframes as shapefiles\n",
    "d={\n",
    "  'Knotweed':knot_gdf,\n",
    "  'Bittersweet':bitt_gdf,\n",
    "  'Buckthorn':buck_gdf,\n",
    "  'Euonymus':euon_gdf,\n",
    "  'Multiflora':mult_gdf,\n",
    "  'Corktree':cork_gdf,\n",
    "  'Porcelain Berry':porc_gdf,\n",
    "  'Kudzu':kudz_gdf,\n",
    "  'Barberry':barb_gdf,'Greenbrier': gree_gdf, 'Laurel': laur_gdf\n",
    "}\n",
    "for name, value in d.items():\n",
    "    value=value.to_crs(epsg=3857).clip(Boston)\n",
    "    value.to_file('../../../Working_Data/Invasives/'+name+'.shp')"
   ]
  }
 ],
 "metadata": {
  "kernelspec": {
   "display_name": "Python 3 (ipykernel)",
   "language": "python",
   "name": "python3"
  },
  "language_info": {
   "codemirror_mode": {
    "name": "ipython",
    "version": 3
   },
   "file_extension": ".py",
   "mimetype": "text/x-python",
   "name": "python",
   "nbconvert_exporter": "python",
   "pygments_lexer": "ipython3",
   "version": "3.11.7"
  }
 },
 "nbformat": 4,
 "nbformat_minor": 5
}

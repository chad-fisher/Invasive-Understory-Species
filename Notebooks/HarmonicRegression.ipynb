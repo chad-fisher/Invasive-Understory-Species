{
 "cells": [
  {
   "cell_type": "code",
   "execution_count": null,
   "id": "cffcab8c-26d6-413c-9874-b63644fc0940",
   "metadata": {},
   "outputs": [],
   "source": [
    "# This notebook was used to create a script for execution on the Tufts High Performance Computing Cluster.\n",
    "# The script takes exported Google Earth engine data and fits a 4-th order Harmonic Regression using SciPy \n",
    "# in a pixelwise manner and saves off the coefficients and RMSE as .csv for use in a random forest classifier."
   ]
  },
  {
   "cell_type": "code",
   "execution_count": 1,
   "id": "42610e19-d6c2-4b9a-a2dc-9c86056e591a",
   "metadata": {},
   "outputs": [],
   "source": [
    "# Import packages\n",
    "import pandas as pd\n",
    "import numpy as np\n",
    "import scipy\n",
    "import geopandas as gpd\n",
    "from datetime import datetime\n",
    "import matplotlib.pyplot as plt\n",
    "import seaborn as sns\n",
    "import pyogrio\n",
    "from sklearn.metrics import mean_squared_error"
   ]
  },
  {
   "cell_type": "code",
   "execution_count": 2,
   "id": "2e74bb92-0e8e-446c-a33c-d84a04015771",
   "metadata": {},
   "outputs": [
    {
     "name": "stdout",
     "output_type": "stream",
     "text": [
      "C:\\Users\\Chad\\Desktop\\CRWA Project\\Working_Data\n"
     ]
    }
   ],
   "source": [
    "# Working directory\n",
    "cd \"C:/Users/Chad/Desktop/CRWA Project/Working_Data\""
   ]
  },
  {
   "cell_type": "code",
   "execution_count": 3,
   "id": "fb07ab06-6454-40bd-b7c3-3693ab19c457",
   "metadata": {},
   "outputs": [],
   "source": [
    "# Read in cleaned data\n",
    "mygdf=gpd.read_file('2023BandsIndicesCleaned.shp',engine=\"pyogrio\").dropna()"
   ]
  },
  {
   "cell_type": "code",
   "execution_count": 4,
   "id": "1945b6a4-5a46-4442-836d-7c3358880527",
   "metadata": {},
   "outputs": [],
   "source": [
    "# Simple harmonic function\n",
    "def harmonicfunc(mult,one,two,x):\n",
    "    w=2*np.pi/365.25\n",
    "    return one*np.cos(mult*w*x)+two*np.sin(mult*w*x)"
   ]
  },
  {
   "cell_type": "code",
   "execution_count": 5,
   "id": "8ffce87d-c519-4c3e-ac00-1b3590fdffc5",
   "metadata": {},
   "outputs": [],
   "source": [
    "# Complex 4-th order harmonic objective function to fit\n",
    "def myobj(x,a,b,c,d,e,f,g,h,i):  \n",
    "    return a+harmonicfunc(1,b,c,x)+harmonicfunc(2,d,e,x)+harmonicfunc(3,f,g,x)+harmonicfunc(4,h,i,x)"
   ]
  },
  {
   "cell_type": "code",
   "execution_count": 6,
   "id": "c04589c3-578c-4f55-83e0-01991edbfa5a",
   "metadata": {},
   "outputs": [],
   "source": [
    "# Curve fit for a specific point in a specific band or vegetation index\n",
    "def curvefit(PtID,band):\n",
    "    x=mygdf[mygdf['PtID']==PtID]['DOY']\n",
    "    y=mygdf[mygdf['PtID']==PtID][band]\n",
    "    popt,pcov=scipy.optimize.curve_fit(myobj, x,y)\n",
    "    yhat=myobj(x,popt[0],popt[1],popt[2],popt[3],popt[4],popt[5],popt[6],popt[7],popt[8])\n",
    "    RMSE=np.sqrt(mean_squared_error(y, yhat))\n",
    "    return RMSE,popt"
   ]
  },
  {
   "cell_type": "code",
   "execution_count": null,
   "id": "a68865ea-f8da-42aa-8ca4-47d14ed5223a",
   "metadata": {},
   "outputs": [],
   "source": [
    "# Run curve fitting on each point and in each band/index. Save each as a file with the coefficients and RMSE for each point\n",
    "output_df=mygdf[['PtID']]\n",
    "for band in ['B2','B3','B4','B5','B6','B7','B8','B8A','B11','B12','NDVI','NBR','SAVI','RENDVI','EVI']:\n",
    "    RMSE_res=np.zeros((output_df.size,1))\n",
    "    popt_res=np.zeros((output_df.size,9))\n",
    "    for i in mygdf['PtID'].drop_duplicates():\n",
    "        RMSE_res[i,:],popt_res[i,:]=curvefit(i,band)\n",
    "    popt_res=popt_res.T.tolist()\n",
    "    print(band)\n",
    "    d={'PtID':mygdf['PtID'].tolist(),'RMSE':RMSE_res.tolist(),'a':popt_res[0],'b':popt_res[1],'c':popt_res[2],'d':popt_res[3],'e':popt_res[4],\n",
    "       'f':popt_res[5],'g':popt_res[6],'h':popt_res[7],'i':popt_res[8]}\n",
    "    out=pd.DataFrame(d)\n",
    "    out.to_csv(band+'harmreg.csv')"
   ]
  }
 ],
 "metadata": {
  "kernelspec": {
   "display_name": "Python 3 (ipykernel)",
   "language": "python",
   "name": "python3"
  },
  "language_info": {
   "codemirror_mode": {
    "name": "ipython",
    "version": 3
   },
   "file_extension": ".py",
   "mimetype": "text/x-python",
   "name": "python",
   "nbconvert_exporter": "python",
   "pygments_lexer": "ipython3",
   "version": "3.11.7"
  }
 },
 "nbformat": 4,
 "nbformat_minor": 5
}

{
 "cells": [
  {
   "cell_type": "code",
   "execution_count": 1,
   "id": "a2c2dc9d-fe97-4154-a047-ec921a42f4d7",
   "metadata": {
    "id": "a2c2dc9d-fe97-4154-a047-ec921a42f4d7"
   },
   "outputs": [],
   "source": [
    "#Import packages\n",
    "import numpy as np\n",
    "import pandas as pd\n",
    "import seaborn as sns\n",
    "import geopandas as gpd\n",
    "import matplotlib as mpl\n",
    "import matplotlib.pyplot as plt\n",
    "from matplotlib_scalebar.scalebar import ScaleBar\n",
    "import contextily as cx\n",
    "import ee\n",
    "import geemap\n",
    "import geemap.foliumap as geemapf\n",
    "import rasterio as rio\n",
    "from rasterio.plot import show\n",
    "from rasterio.mask import mask\n",
    "import wget\n",
    "import zipfile\n",
    "from datetime import datetime\n",
    "import pyinaturalist\n",
    "from scipy import ndimage\n",
    "import urllib\n",
    "import geetools\n",
    "from geetools import batch"
   ]
  },
  {
   "cell_type": "code",
   "execution_count": 2,
   "id": "bdc87758-d615-4e70-8e6f-26a49d77b6c8",
   "metadata": {
    "colab": {
     "base_uri": "https://localhost:8080/",
     "height": 17
    },
    "id": "bdc87758-d615-4e70-8e6f-26a49d77b6c8",
    "outputId": "8c162c1c-d7ee-4600-cd8d-4c4b3b730a7f"
   },
   "outputs": [
    {
     "data": {
      "text/html": [
       "<pre style=\"white-space:pre;overflow-x:auto;line-height:normal;font-family:Menlo,'DejaVu Sans Mono',consolas,'Courier New',monospace\"></pre>\n"
      ],
      "text/plain": []
     },
     "metadata": {},
     "output_type": "display_data"
    },
    {
     "data": {
      "text/html": [
       "\n",
       "            <style>\n",
       "                .geemap-dark {\n",
       "                    --jp-widgets-color: white;\n",
       "                    --jp-widgets-label-color: white;\n",
       "                    --jp-ui-font-color1: white;\n",
       "                    --jp-layout-color2: #454545;\n",
       "                    background-color: #383838;\n",
       "                }\n",
       "                    \n",
       "                .geemap-dark .jupyter-button {\n",
       "                    --jp-layout-color3: #383838;\n",
       "                }\n",
       "                \n",
       "                .geemap-colab {\n",
       "                    background-color: var(--colab-primary-surface-color, white);\n",
       "                }\n",
       "                    \n",
       "                .geemap-colab .jupyter-button {\n",
       "                    --jp-layout-color3: var(--colab-primary-surface-color, white);\n",
       "                }\n",
       "            </style>\n",
       "            "
      ],
      "text/plain": [
       "\u001b[1m<\u001b[0m\u001b[1;95mIPython.core.display.HTML\u001b[0m\u001b[39m object\u001b[0m\u001b[1m>\u001b[0m"
      ]
     },
     "metadata": {},
     "output_type": "display_data"
    },
    {
     "data": {
      "text/html": [
       "<pre style=\"white-space:pre;overflow-x:auto;line-height:normal;font-family:Menlo,'DejaVu Sans Mono',consolas,'Courier New',monospace\"></pre>\n"
      ],
      "text/plain": []
     },
     "metadata": {},
     "output_type": "display_data"
    },
    {
     "data": {
      "text/html": [
       "<p>To authorize access needed by Earth Engine, open the following\n",
       "        URL in a web browser and follow the instructions:</p>\n",
       "        <p><a href=https://code.earthengine.google.com/client-auth?scopes=https%3A//www.googleapis.com/auth/earthengine%20https%3A//www.googleapis.com/auth/cloud-platform%20https%3A//www.googleapis.com/auth/devstorage.full_control&request_id=eHWhcmyRq8hKAHV8OkTGQ539vZSVLOlmgtl8Fz5uG7w&tc=VunIAWRGU71Qxk9v2m1EDy6y0BkomQ8ztOo8gv5vuus&cc=MFBOtMk6GX8NwGtK6aEs-c4L8N219Mg0bI7AatBhQVg>https://code.earthengine.google.com/client-auth?scopes=https%3A//www.googleapis.com/auth/earthengine%20https%3A//www.googleapis.com/auth/cloud-platform%20https%3A//www.googleapis.com/auth/devstorage.full_control&request_id=eHWhcmyRq8hKAHV8OkTGQ539vZSVLOlmgtl8Fz5uG7w&tc=VunIAWRGU71Qxk9v2m1EDy6y0BkomQ8ztOo8gv5vuus&cc=MFBOtMk6GX8NwGtK6aEs-c4L8N219Mg0bI7AatBhQVg</a></p>\n",
       "        <p>The authorization workflow will generate a code, which you should paste in the box below.</p>\n",
       "        "
      ],
      "text/plain": [
       "\u001b[1m<\u001b[0m\u001b[1;95mIPython.core.display.HTML\u001b[0m\u001b[39m object\u001b[0m\u001b[1m>\u001b[0m"
      ]
     },
     "metadata": {},
     "output_type": "display_data"
    },
    {
     "name": "stdin",
     "output_type": "stream",
     "text": [
      "Enter verification code:  4/1AeaYSHA97UdKES7GbVOjxyITaLBXmkZXTAPP8j3tVdDYPLo9qegsMEb5RRY\n"
     ]
    },
    {
     "name": "stdout",
     "output_type": "stream",
     "text": [
      "\n",
      "Successfully saved authorization token.\n"
     ]
    }
   ],
   "source": [
    "#Authenticate to Earth Engine\n",
    "ee.Authenticate()"
   ]
  },
  {
   "cell_type": "code",
   "execution_count": 3,
   "id": "4f254aed-da5d-4794-b154-a1a147d75aa2",
   "metadata": {
    "colab": {
     "base_uri": "https://localhost:8080/",
     "height": 17
    },
    "id": "4f254aed-da5d-4794-b154-a1a147d75aa2",
    "outputId": "49e9ec14-38bc-4633-aafb-5f5ae23b9378"
   },
   "outputs": [
    {
     "data": {
      "text/html": [
       "<pre style=\"white-space:pre;overflow-x:auto;line-height:normal;font-family:Menlo,'DejaVu Sans Mono',consolas,'Courier New',monospace\"></pre>\n"
      ],
      "text/plain": []
     },
     "metadata": {},
     "output_type": "display_data"
    },
    {
     "data": {
      "text/html": [
       "\n",
       "            <style>\n",
       "                .geemap-dark {\n",
       "                    --jp-widgets-color: white;\n",
       "                    --jp-widgets-label-color: white;\n",
       "                    --jp-ui-font-color1: white;\n",
       "                    --jp-layout-color2: #454545;\n",
       "                    background-color: #383838;\n",
       "                }\n",
       "                    \n",
       "                .geemap-dark .jupyter-button {\n",
       "                    --jp-layout-color3: #383838;\n",
       "                }\n",
       "                \n",
       "                .geemap-colab {\n",
       "                    background-color: var(--colab-primary-surface-color, white);\n",
       "                }\n",
       "                    \n",
       "                .geemap-colab .jupyter-button {\n",
       "                    --jp-layout-color3: var(--colab-primary-surface-color, white);\n",
       "                }\n",
       "            </style>\n",
       "            "
      ],
      "text/plain": [
       "\u001b[1m<\u001b[0m\u001b[1;95mIPython.core.display.HTML\u001b[0m\u001b[39m object\u001b[0m\u001b[1m>\u001b[0m"
      ]
     },
     "metadata": {},
     "output_type": "display_data"
    }
   ],
   "source": [
    "#Initialize earth engine project\n",
    "ee.Initialize(project='ee-cefisher20')"
   ]
  },
  {
   "cell_type": "code",
   "execution_count": null,
   "id": "e2cd936c-9800-49a0-8fe2-bb1798d52eca",
   "metadata": {
    "id": "e2cd936c-9800-49a0-8fe2-bb1798d52eca"
   },
   "outputs": [],
   "source": [
    "#Set working directory\n",
    "cd '???????'"
   ]
  },
  {
   "cell_type": "code",
   "execution_count": 4,
   "id": "2f8a9fd5-a26e-4f9d-a611-f92bfdb4f28c",
   "metadata": {
    "colab": {
     "base_uri": "https://localhost:8080/",
     "height": 17
    },
    "id": "2f8a9fd5-a26e-4f9d-a611-f92bfdb4f28c",
    "outputId": "351703fe-82d3-4ea0-8a07-5ce80d5f7177"
   },
   "outputs": [
    {
     "data": {
      "text/html": [
       "<pre style=\"white-space:pre;overflow-x:auto;line-height:normal;font-family:Menlo,'DejaVu Sans Mono',consolas,'Courier New',monospace\"></pre>\n"
      ],
      "text/plain": []
     },
     "metadata": {},
     "output_type": "display_data"
    },
    {
     "data": {
      "text/html": [
       "\n",
       "            <style>\n",
       "                .geemap-dark {\n",
       "                    --jp-widgets-color: white;\n",
       "                    --jp-widgets-label-color: white;\n",
       "                    --jp-ui-font-color1: white;\n",
       "                    --jp-layout-color2: #454545;\n",
       "                    background-color: #383838;\n",
       "                }\n",
       "                    \n",
       "                .geemap-dark .jupyter-button {\n",
       "                    --jp-layout-color3: #383838;\n",
       "                }\n",
       "                \n",
       "                .geemap-colab {\n",
       "                    background-color: var(--colab-primary-surface-color, white);\n",
       "                }\n",
       "                    \n",
       "                .geemap-colab .jupyter-button {\n",
       "                    --jp-layout-color3: var(--colab-primary-surface-color, white);\n",
       "                }\n",
       "            </style>\n",
       "            "
      ],
      "text/plain": [
       "\u001b[1m<\u001b[0m\u001b[1;95mIPython.core.display.HTML\u001b[0m\u001b[39m object\u001b[0m\u001b[1m>\u001b[0m"
      ]
     },
     "metadata": {},
     "output_type": "display_data"
    }
   ],
   "source": [
    "#HUC codes from https://apps.nationalmap.gov/viewer/\n",
    "Charles=ee.FeatureCollection(\"USGS/WBD/2017/HUC10\").filter(\"huc10 == '0109000107' or huc10 == '0109000106'\")"
   ]
  },
  {
   "cell_type": "code",
   "execution_count": 5,
   "id": "f7ddfcf3-e10e-43f0-8a59-7087417812c7",
   "metadata": {
    "colab": {
     "base_uri": "https://localhost:8080/",
     "height": 17
    },
    "id": "f7ddfcf3-e10e-43f0-8a59-7087417812c7",
    "outputId": "3aff07f8-eba4-4800-fede-46283c589b5c"
   },
   "outputs": [
    {
     "data": {
      "text/html": [
       "<pre style=\"white-space:pre;overflow-x:auto;line-height:normal;font-family:Menlo,'DejaVu Sans Mono',consolas,'Courier New',monospace\"></pre>\n"
      ],
      "text/plain": []
     },
     "metadata": {},
     "output_type": "display_data"
    },
    {
     "data": {
      "text/html": [
       "\n",
       "            <style>\n",
       "                .geemap-dark {\n",
       "                    --jp-widgets-color: white;\n",
       "                    --jp-widgets-label-color: white;\n",
       "                    --jp-ui-font-color1: white;\n",
       "                    --jp-layout-color2: #454545;\n",
       "                    background-color: #383838;\n",
       "                }\n",
       "                    \n",
       "                .geemap-dark .jupyter-button {\n",
       "                    --jp-layout-color3: #383838;\n",
       "                }\n",
       "                \n",
       "                .geemap-colab {\n",
       "                    background-color: var(--colab-primary-surface-color, white);\n",
       "                }\n",
       "                    \n",
       "                .geemap-colab .jupyter-button {\n",
       "                    --jp-layout-color3: var(--colab-primary-surface-color, white);\n",
       "                }\n",
       "            </style>\n",
       "            "
      ],
      "text/plain": [
       "\u001b[1m<\u001b[0m\u001b[1;95mIPython.core.display.HTML\u001b[0m\u001b[39m object\u001b[0m\u001b[1m>\u001b[0m"
      ]
     },
     "metadata": {},
     "output_type": "display_data"
    }
   ],
   "source": [
    "#Convert earth engine feature collections to geopandas data frames\n",
    "Charles_gdf = ee.data.computeFeatures({\n",
    "    'expression': Charles,\n",
    "    'fileFormat': 'GEOPANDAS_GEODATAFRAME'\n",
    "})\n",
    "Charles_gdf.crs = 'EPSG:4326'"
   ]
  },
  {
   "cell_type": "code",
   "execution_count": 6,
   "id": "d05061f1-b2b4-41b8-aefe-7139069133de",
   "metadata": {
    "colab": {
     "base_uri": "https://localhost:8080/",
     "height": 17
    },
    "id": "d05061f1-b2b4-41b8-aefe-7139069133de",
    "outputId": "18ea9400-823b-4d50-f4ff-a7f9a0085ac6"
   },
   "outputs": [
    {
     "data": {
      "text/html": [
       "<pre style=\"white-space:pre;overflow-x:auto;line-height:normal;font-family:Menlo,'DejaVu Sans Mono',consolas,'Courier New',monospace\"></pre>\n"
      ],
      "text/plain": []
     },
     "metadata": {},
     "output_type": "display_data"
    },
    {
     "data": {
      "text/html": [
       "\n",
       "            <style>\n",
       "                .geemap-dark {\n",
       "                    --jp-widgets-color: white;\n",
       "                    --jp-widgets-label-color: white;\n",
       "                    --jp-ui-font-color1: white;\n",
       "                    --jp-layout-color2: #454545;\n",
       "                    background-color: #383838;\n",
       "                }\n",
       "                    \n",
       "                .geemap-dark .jupyter-button {\n",
       "                    --jp-layout-color3: #383838;\n",
       "                }\n",
       "                \n",
       "                .geemap-colab {\n",
       "                    background-color: var(--colab-primary-surface-color, white);\n",
       "                }\n",
       "                    \n",
       "                .geemap-colab .jupyter-button {\n",
       "                    --jp-layout-color3: var(--colab-primary-surface-color, white);\n",
       "                }\n",
       "            </style>\n",
       "            "
      ],
      "text/plain": [
       "\u001b[1m<\u001b[0m\u001b[1;95mIPython.core.display.HTML\u001b[0m\u001b[39m object\u001b[0m\u001b[1m>\u001b[0m"
      ]
     },
     "metadata": {},
     "output_type": "display_data"
    }
   ],
   "source": [
    "def Charclip(image):\n",
    "    return image.clip(Charles)"
   ]
  },
  {
   "cell_type": "code",
   "execution_count": 7,
   "id": "60c7f68d-5f18-4dc8-8c0a-57554711c4c2",
   "metadata": {
    "colab": {
     "base_uri": "https://localhost:8080/",
     "height": 17
    },
    "id": "60c7f68d-5f18-4dc8-8c0a-57554711c4c2",
    "outputId": "0e9ff878-41e1-4923-f5d5-30fc50c90da4"
   },
   "outputs": [
    {
     "data": {
      "text/html": [
       "<pre style=\"white-space:pre;overflow-x:auto;line-height:normal;font-family:Menlo,'DejaVu Sans Mono',consolas,'Courier New',monospace\"></pre>\n"
      ],
      "text/plain": []
     },
     "metadata": {},
     "output_type": "display_data"
    },
    {
     "data": {
      "text/html": [
       "\n",
       "            <style>\n",
       "                .geemap-dark {\n",
       "                    --jp-widgets-color: white;\n",
       "                    --jp-widgets-label-color: white;\n",
       "                    --jp-ui-font-color1: white;\n",
       "                    --jp-layout-color2: #454545;\n",
       "                    background-color: #383838;\n",
       "                }\n",
       "                    \n",
       "                .geemap-dark .jupyter-button {\n",
       "                    --jp-layout-color3: #383838;\n",
       "                }\n",
       "                \n",
       "                .geemap-colab {\n",
       "                    background-color: var(--colab-primary-surface-color, white);\n",
       "                }\n",
       "                    \n",
       "                .geemap-colab .jupyter-button {\n",
       "                    --jp-layout-color3: var(--colab-primary-surface-color, white);\n",
       "                }\n",
       "            </style>\n",
       "            "
      ],
      "text/plain": [
       "\u001b[1m<\u001b[0m\u001b[1;95mIPython.core.display.HTML\u001b[0m\u001b[39m object\u001b[0m\u001b[1m>\u001b[0m"
      ]
     },
     "metadata": {},
     "output_type": "display_data"
    }
   ],
   "source": [
    "#Extract Sentinel 2 bands and indices of interest\n",
    "def extractBandsIndices(image):\n",
    "    return image.select(['B2','B3','B4','B5_10m','B6_10m','B7_10m','B8','B8A_10m','B11_10m','B12_10m',\n",
    "                         'NDVI','NBR','SAVI','RENDVI','EVI'])"
   ]
  },
  {
   "cell_type": "code",
   "execution_count": 8,
   "id": "0b3c6b93-6b7b-4afe-a815-8fb1cf5c1ee4",
   "metadata": {
    "colab": {
     "base_uri": "https://localhost:8080/",
     "height": 17
    },
    "id": "0b3c6b93-6b7b-4afe-a815-8fb1cf5c1ee4",
    "outputId": "915f1977-424b-4d93-aaba-ecbdf1671b08"
   },
   "outputs": [
    {
     "data": {
      "text/html": [
       "<pre style=\"white-space:pre;overflow-x:auto;line-height:normal;font-family:Menlo,'DejaVu Sans Mono',consolas,'Courier New',monospace\"></pre>\n"
      ],
      "text/plain": []
     },
     "metadata": {},
     "output_type": "display_data"
    },
    {
     "data": {
      "text/html": [
       "\n",
       "            <style>\n",
       "                .geemap-dark {\n",
       "                    --jp-widgets-color: white;\n",
       "                    --jp-widgets-label-color: white;\n",
       "                    --jp-ui-font-color1: white;\n",
       "                    --jp-layout-color2: #454545;\n",
       "                    background-color: #383838;\n",
       "                }\n",
       "                    \n",
       "                .geemap-dark .jupyter-button {\n",
       "                    --jp-layout-color3: #383838;\n",
       "                }\n",
       "                \n",
       "                .geemap-colab {\n",
       "                    background-color: var(--colab-primary-surface-color, white);\n",
       "                }\n",
       "                    \n",
       "                .geemap-colab .jupyter-button {\n",
       "                    --jp-layout-color3: var(--colab-primary-surface-color, white);\n",
       "                }\n",
       "            </style>\n",
       "            "
      ],
      "text/plain": [
       "\u001b[1m<\u001b[0m\u001b[1;95mIPython.core.display.HTML\u001b[0m\u001b[39m object\u001b[0m\u001b[1m>\u001b[0m"
      ]
     },
     "metadata": {},
     "output_type": "display_data"
    }
   ],
   "source": [
    "#Resample Sentinel 2 bands to 10 m\n",
    "def resample10m(image):\n",
    "    proj_10m=image.select('B4').projection()\n",
    "    B5_res=image.select('B5').resample('bicubic').reproject(proj_10m).rename('B5_10m')\n",
    "    B6_res=image.select('B6').resample('bicubic').reproject(proj_10m).rename('B6_10m')\n",
    "    B7_res=image.select('B7').resample('bicubic').reproject(proj_10m).rename('B7_10m')\n",
    "    B8A_res=image.select('B8A').resample('bicubic').reproject(proj_10m).rename('B8A_10m')\n",
    "    B11_res=image.select('B11').resample('bicubic').reproject(proj_10m).rename('B11_10m')\n",
    "    B12_res=image.select('B12').resample('bicubic').reproject(proj_10m).rename('B12_10m')\n",
    "    return image.addBands([B5_res,B6_res,B7_res,B8A_res,B11_res,B12_res])"
   ]
  },
  {
   "cell_type": "code",
   "execution_count": 9,
   "id": "779c5441-3da3-40bf-863e-13407bb184f4",
   "metadata": {
    "colab": {
     "base_uri": "https://localhost:8080/",
     "height": 17
    },
    "id": "779c5441-3da3-40bf-863e-13407bb184f4",
    "outputId": "1c1890a0-c906-45a1-eb64-253c45f7bad7"
   },
   "outputs": [
    {
     "data": {
      "text/html": [
       "<pre style=\"white-space:pre;overflow-x:auto;line-height:normal;font-family:Menlo,'DejaVu Sans Mono',consolas,'Courier New',monospace\"></pre>\n"
      ],
      "text/plain": []
     },
     "metadata": {},
     "output_type": "display_data"
    },
    {
     "data": {
      "text/html": [
       "\n",
       "            <style>\n",
       "                .geemap-dark {\n",
       "                    --jp-widgets-color: white;\n",
       "                    --jp-widgets-label-color: white;\n",
       "                    --jp-ui-font-color1: white;\n",
       "                    --jp-layout-color2: #454545;\n",
       "                    background-color: #383838;\n",
       "                }\n",
       "                    \n",
       "                .geemap-dark .jupyter-button {\n",
       "                    --jp-layout-color3: #383838;\n",
       "                }\n",
       "                \n",
       "                .geemap-colab {\n",
       "                    background-color: var(--colab-primary-surface-color, white);\n",
       "                }\n",
       "                    \n",
       "                .geemap-colab .jupyter-button {\n",
       "                    --jp-layout-color3: var(--colab-primary-surface-color, white);\n",
       "                }\n",
       "            </style>\n",
       "            "
      ],
      "text/plain": [
       "\u001b[1m<\u001b[0m\u001b[1;95mIPython.core.display.HTML\u001b[0m\u001b[39m object\u001b[0m\u001b[1m>\u001b[0m"
      ]
     },
     "metadata": {},
     "output_type": "display_data"
    }
   ],
   "source": [
    "#Add 5 vegetation indices of interest\n",
    "def addIndices(image):\n",
    "    NDVI = image.normalizedDifference(['B8', 'B4']).rename('NDVI')\n",
    "    NBR = image.normalizedDifference(['B12_10m','B8']).rename('NBR')\n",
    "    SAVI = image.expression(\n",
    "        '1.5 * ((NIR - RED)) / (NIR + RED + 0.5)', {\n",
    "            'NIR' : image.select('B8'),\n",
    "            'RED' : image.select('B4'),\n",
    "        }).rename('SAVI')\n",
    "    RENDVI = image.normalizedDifference(['B6_10m','B5_10m']).rename('RENDVI')\n",
    "    EVI = image.expression(\n",
    "        '2.5 * ((NIR - RED) / (NIR + 6 * RED - 7.5 * BLUE + 1))', {\n",
    "            'NIR' : image.select('B8'),\n",
    "            'RED' : image.select('B4'),\n",
    "            'BLUE': image.select('B2')}).rename('EVI')\n",
    "    return image.addBands([NDVI,NBR,SAVI,RENDVI,EVI])"
   ]
  },
  {
   "cell_type": "code",
   "execution_count": 10,
   "id": "88bde60d-9480-405b-a327-0fd68d949833",
   "metadata": {
    "colab": {
     "base_uri": "https://localhost:8080/",
     "height": 17
    },
    "id": "88bde60d-9480-405b-a327-0fd68d949833",
    "outputId": "35c1b3d8-e8b7-4d61-9a05-9e1055be7c0a"
   },
   "outputs": [
    {
     "data": {
      "text/html": [
       "<pre style=\"white-space:pre;overflow-x:auto;line-height:normal;font-family:Menlo,'DejaVu Sans Mono',consolas,'Courier New',monospace\"></pre>\n"
      ],
      "text/plain": []
     },
     "metadata": {},
     "output_type": "display_data"
    },
    {
     "data": {
      "text/html": [
       "\n",
       "            <style>\n",
       "                .geemap-dark {\n",
       "                    --jp-widgets-color: white;\n",
       "                    --jp-widgets-label-color: white;\n",
       "                    --jp-ui-font-color1: white;\n",
       "                    --jp-layout-color2: #454545;\n",
       "                    background-color: #383838;\n",
       "                }\n",
       "                    \n",
       "                .geemap-dark .jupyter-button {\n",
       "                    --jp-layout-color3: #383838;\n",
       "                }\n",
       "                \n",
       "                .geemap-colab {\n",
       "                    background-color: var(--colab-primary-surface-color, white);\n",
       "                }\n",
       "                    \n",
       "                .geemap-colab .jupyter-button {\n",
       "                    --jp-layout-color3: var(--colab-primary-surface-color, white);\n",
       "                }\n",
       "            </style>\n",
       "            "
      ],
      "text/plain": [
       "\u001b[1m<\u001b[0m\u001b[1;95mIPython.core.display.HTML\u001b[0m\u001b[39m object\u001b[0m\u001b[1m>\u001b[0m"
      ]
     },
     "metadata": {},
     "output_type": "display_data"
    }
   ],
   "source": [
    "#Cloud mask function\n",
    "def mask_s2_clouds(image):\n",
    "    qa = image.select('QA60')\n",
    "    cloud_bit_mask = 1 << 10\n",
    "    cirrus_bit_mask = 1 << 11\n",
    "    mask = (\n",
    "        qa.bitwiseAnd(cloud_bit_mask)\n",
    "        .eq(0)\n",
    "        .And(qa.bitwiseAnd(cirrus_bit_mask).eq(0))\n",
    "    )\n",
    "    return image.updateMask(mask).divide(10000)"
   ]
  },
  {
   "cell_type": "code",
   "execution_count": 11,
   "id": "d664ced4-b812-4bc7-ac15-7f05ac00e16e",
   "metadata": {
    "colab": {
     "base_uri": "https://localhost:8080/",
     "height": 17
    },
    "id": "d664ced4-b812-4bc7-ac15-7f05ac00e16e",
    "outputId": "440116ec-1bdc-44c3-d97e-99fb2be4451e"
   },
   "outputs": [
    {
     "data": {
      "text/html": [
       "<pre style=\"white-space:pre;overflow-x:auto;line-height:normal;font-family:Menlo,'DejaVu Sans Mono',consolas,'Courier New',monospace\"></pre>\n"
      ],
      "text/plain": []
     },
     "metadata": {},
     "output_type": "display_data"
    },
    {
     "data": {
      "text/html": [
       "\n",
       "            <style>\n",
       "                .geemap-dark {\n",
       "                    --jp-widgets-color: white;\n",
       "                    --jp-widgets-label-color: white;\n",
       "                    --jp-ui-font-color1: white;\n",
       "                    --jp-layout-color2: #454545;\n",
       "                    background-color: #383838;\n",
       "                }\n",
       "                    \n",
       "                .geemap-dark .jupyter-button {\n",
       "                    --jp-layout-color3: #383838;\n",
       "                }\n",
       "                \n",
       "                .geemap-colab {\n",
       "                    background-color: var(--colab-primary-surface-color, white);\n",
       "                }\n",
       "                    \n",
       "                .geemap-colab .jupyter-button {\n",
       "                    --jp-layout-color3: var(--colab-primary-surface-color, white);\n",
       "                }\n",
       "            </style>\n",
       "            "
      ],
      "text/plain": [
       "\u001b[1m<\u001b[0m\u001b[1;95mIPython.core.display.HTML\u001b[0m\u001b[39m object\u001b[0m\u001b[1m>\u001b[0m"
      ]
     },
     "metadata": {},
     "output_type": "display_data"
    }
   ],
   "source": [
    "#Land cover mask function\n",
    "def mask_forests(image):\n",
    "    mask=(NLCD2019lc.eq(41))\n",
    "    return image.updateMask(mask)"
   ]
  },
  {
   "cell_type": "code",
   "execution_count": 12,
   "id": "12e788a3-a8d2-438c-8206-35eb8434d3f0",
   "metadata": {
    "colab": {
     "base_uri": "https://localhost:8080/",
     "height": 17
    },
    "id": "12e788a3-a8d2-438c-8206-35eb8434d3f0",
    "outputId": "8d4db76f-d9ca-4b3b-b442-0446c83f4cc9"
   },
   "outputs": [
    {
     "data": {
      "text/html": [
       "<pre style=\"white-space:pre;overflow-x:auto;line-height:normal;font-family:Menlo,'DejaVu Sans Mono',consolas,'Courier New',monospace\"></pre>\n"
      ],
      "text/plain": []
     },
     "metadata": {},
     "output_type": "display_data"
    },
    {
     "data": {
      "text/html": [
       "\n",
       "            <style>\n",
       "                .geemap-dark {\n",
       "                    --jp-widgets-color: white;\n",
       "                    --jp-widgets-label-color: white;\n",
       "                    --jp-ui-font-color1: white;\n",
       "                    --jp-layout-color2: #454545;\n",
       "                    background-color: #383838;\n",
       "                }\n",
       "                    \n",
       "                .geemap-dark .jupyter-button {\n",
       "                    --jp-layout-color3: #383838;\n",
       "                }\n",
       "                \n",
       "                .geemap-colab {\n",
       "                    background-color: var(--colab-primary-surface-color, white);\n",
       "                }\n",
       "                    \n",
       "                .geemap-colab .jupyter-button {\n",
       "                    --jp-layout-color3: var(--colab-primary-surface-color, white);\n",
       "                }\n",
       "            </style>\n",
       "            "
      ],
      "text/plain": [
       "\u001b[1m<\u001b[0m\u001b[1;95mIPython.core.display.HTML\u001b[0m\u001b[39m object\u001b[0m\u001b[1m>\u001b[0m"
      ]
     },
     "metadata": {},
     "output_type": "display_data"
    }
   ],
   "source": [
    "def preprocess(img):\n",
    "  return extractBandsIndices(addIndices(resample10m(Charclip(img))))"
   ]
  },
  {
   "cell_type": "code",
   "execution_count": 13,
   "id": "ba6fb9c7-33e0-427b-8f23-9aa50094d93b",
   "metadata": {
    "colab": {
     "base_uri": "https://localhost:8080/",
     "height": 17
    },
    "id": "ba6fb9c7-33e0-427b-8f23-9aa50094d93b",
    "outputId": "a802e083-d419-4517-d25b-31c22ea79ff2"
   },
   "outputs": [
    {
     "data": {
      "text/html": [
       "<pre style=\"white-space:pre;overflow-x:auto;line-height:normal;font-family:Menlo,'DejaVu Sans Mono',consolas,'Courier New',monospace\"></pre>\n"
      ],
      "text/plain": []
     },
     "metadata": {},
     "output_type": "display_data"
    },
    {
     "data": {
      "text/html": [
       "\n",
       "            <style>\n",
       "                .geemap-dark {\n",
       "                    --jp-widgets-color: white;\n",
       "                    --jp-widgets-label-color: white;\n",
       "                    --jp-ui-font-color1: white;\n",
       "                    --jp-layout-color2: #454545;\n",
       "                    background-color: #383838;\n",
       "                }\n",
       "                    \n",
       "                .geemap-dark .jupyter-button {\n",
       "                    --jp-layout-color3: #383838;\n",
       "                }\n",
       "                \n",
       "                .geemap-colab {\n",
       "                    background-color: var(--colab-primary-surface-color, white);\n",
       "                }\n",
       "                    \n",
       "                .geemap-colab .jupyter-button {\n",
       "                    --jp-layout-color3: var(--colab-primary-surface-color, white);\n",
       "                }\n",
       "            </style>\n",
       "            "
      ],
      "text/plain": [
       "\u001b[1m<\u001b[0m\u001b[1;95mIPython.core.display.HTML\u001b[0m\u001b[39m object\u001b[0m\u001b[1m>\u001b[0m"
      ]
     },
     "metadata": {},
     "output_type": "display_data"
    }
   ],
   "source": [
    "#Pre-processing sentinel-2 data\n",
    "S2_All=ee.ImageCollection((\"COPERNICUS/S2_SR_HARMONIZED\")).filterDate('2023-01-01','2024-01-01').filterBounds(Charles.geometry()).filter(ee.Filter.lt('CLOUDY_PIXEL_PERCENTAGE', 50)).map(preprocess)"
   ]
  },
  {
   "cell_type": "code",
   "execution_count": 14,
   "id": "d57799e0-80ab-445e-baf8-7f523ff2ce50",
   "metadata": {
    "colab": {
     "base_uri": "https://localhost:8080/",
     "height": 17
    },
    "id": "d57799e0-80ab-445e-baf8-7f523ff2ce50",
    "outputId": "4f026c4b-3588-4b6d-c135-c02319cba4c9"
   },
   "outputs": [
    {
     "data": {
      "text/html": [
       "<pre style=\"white-space:pre;overflow-x:auto;line-height:normal;font-family:Menlo,'DejaVu Sans Mono',consolas,'Courier New',monospace\"></pre>\n"
      ],
      "text/plain": []
     },
     "metadata": {},
     "output_type": "display_data"
    },
    {
     "data": {
      "text/html": [
       "\n",
       "            <style>\n",
       "                .geemap-dark {\n",
       "                    --jp-widgets-color: white;\n",
       "                    --jp-widgets-label-color: white;\n",
       "                    --jp-ui-font-color1: white;\n",
       "                    --jp-layout-color2: #454545;\n",
       "                    background-color: #383838;\n",
       "                }\n",
       "                    \n",
       "                .geemap-dark .jupyter-button {\n",
       "                    --jp-layout-color3: #383838;\n",
       "                }\n",
       "                \n",
       "                .geemap-colab {\n",
       "                    background-color: var(--colab-primary-surface-color, white);\n",
       "                }\n",
       "                    \n",
       "                .geemap-colab .jupyter-button {\n",
       "                    --jp-layout-color3: var(--colab-primary-surface-color, white);\n",
       "                }\n",
       "            </style>\n",
       "            "
      ],
      "text/plain": [
       "\u001b[1m<\u001b[0m\u001b[1;95mIPython.core.display.HTML\u001b[0m\u001b[39m object\u001b[0m\u001b[1m>\u001b[0m"
      ]
     },
     "metadata": {},
     "output_type": "display_data"
    }
   ],
   "source": [
    "S2_raw=ee.ImageCollection((\"COPERNICUS/S2_SR_HARMONIZED\")).filterDate('2023-01-01','2024-01-01').filterBounds(Charles.geometry()).filter(ee.Filter.lt('CLOUDY_PIXEL_PERCENTAGE', 50))"
   ]
  },
  {
   "cell_type": "code",
   "execution_count": 15,
   "id": "7c71eb08-f875-45c4-a6c3-d72f89225bd4",
   "metadata": {
    "colab": {
     "base_uri": "https://localhost:8080/",
     "height": 17
    },
    "id": "7c71eb08-f875-45c4-a6c3-d72f89225bd4",
    "outputId": "02097fd0-3a0a-4b25-eef8-fdbcf062bbd2"
   },
   "outputs": [
    {
     "data": {
      "text/html": [
       "<pre style=\"white-space:pre;overflow-x:auto;line-height:normal;font-family:Menlo,'DejaVu Sans Mono',consolas,'Courier New',monospace\"></pre>\n"
      ],
      "text/plain": []
     },
     "metadata": {},
     "output_type": "display_data"
    },
    {
     "data": {
      "text/html": [
       "\n",
       "            <style>\n",
       "                .geemap-dark {\n",
       "                    --jp-widgets-color: white;\n",
       "                    --jp-widgets-label-color: white;\n",
       "                    --jp-ui-font-color1: white;\n",
       "                    --jp-layout-color2: #454545;\n",
       "                    background-color: #383838;\n",
       "                }\n",
       "                    \n",
       "                .geemap-dark .jupyter-button {\n",
       "                    --jp-layout-color3: #383838;\n",
       "                }\n",
       "                \n",
       "                .geemap-colab {\n",
       "                    background-color: var(--colab-primary-surface-color, white);\n",
       "                }\n",
       "                    \n",
       "                .geemap-colab .jupyter-button {\n",
       "                    --jp-layout-color3: var(--colab-primary-surface-color, white);\n",
       "                }\n",
       "            </style>\n",
       "            "
      ],
      "text/plain": [
       "\u001b[1m<\u001b[0m\u001b[1;95mIPython.core.display.HTML\u001b[0m\u001b[39m object\u001b[0m\u001b[1m>\u001b[0m"
      ]
     },
     "metadata": {},
     "output_type": "display_data"
    }
   ],
   "source": [
    "def dateFormat(img):\n",
    "  return ee.Image(img).date().format().split('T').get(0)"
   ]
  },
  {
   "cell_type": "code",
   "execution_count": 16,
   "id": "568a373b-f036-4c9f-a3e0-445d121b2d6f",
   "metadata": {
    "colab": {
     "base_uri": "https://localhost:8080/",
     "height": 17
    },
    "id": "568a373b-f036-4c9f-a3e0-445d121b2d6f",
    "outputId": "d1963050-e266-46cf-fad2-480ff8f18e0c"
   },
   "outputs": [
    {
     "data": {
      "text/html": [
       "<pre style=\"white-space:pre;overflow-x:auto;line-height:normal;font-family:Menlo,'DejaVu Sans Mono',consolas,'Courier New',monospace\"></pre>\n"
      ],
      "text/plain": []
     },
     "metadata": {},
     "output_type": "display_data"
    },
    {
     "data": {
      "text/html": [
       "\n",
       "            <style>\n",
       "                .geemap-dark {\n",
       "                    --jp-widgets-color: white;\n",
       "                    --jp-widgets-label-color: white;\n",
       "                    --jp-ui-font-color1: white;\n",
       "                    --jp-layout-color2: #454545;\n",
       "                    background-color: #383838;\n",
       "                }\n",
       "                    \n",
       "                .geemap-dark .jupyter-button {\n",
       "                    --jp-layout-color3: #383838;\n",
       "                }\n",
       "                \n",
       "                .geemap-colab {\n",
       "                    background-color: var(--colab-primary-surface-color, white);\n",
       "                }\n",
       "                    \n",
       "                .geemap-colab .jupyter-button {\n",
       "                    --jp-layout-color3: var(--colab-primary-surface-color, white);\n",
       "                }\n",
       "            </style>\n",
       "            "
      ],
      "text/plain": [
       "\u001b[1m<\u001b[0m\u001b[1;95mIPython.core.display.HTML\u001b[0m\u001b[39m object\u001b[0m\u001b[1m>\u001b[0m"
      ]
     },
     "metadata": {},
     "output_type": "display_data"
    }
   ],
   "source": [
    "def mosaicBy(d):\n",
    "  return ee.ImageCollection((\"COPERNICUS/S2_SR_HARMONIZED\")).filterBounds(Charles.geometry()).filter(ee.Filter.lt('CLOUDY_PIXEL_PERCENTAGE', 50)).filterDate(d,ee.Date(d).advance(1,'day')).mosaic()"
   ]
  },
  {
   "cell_type": "code",
   "execution_count": 17,
   "id": "ccfb5d7f-a752-4ebe-a542-e00a14870eff",
   "metadata": {
    "colab": {
     "base_uri": "https://localhost:8080/",
     "height": 17
    },
    "id": "ccfb5d7f-a752-4ebe-a542-e00a14870eff",
    "outputId": "4e63ce8e-3698-43e0-e1f0-1684defecb1c"
   },
   "outputs": [
    {
     "data": {
      "text/html": [
       "<pre style=\"white-space:pre;overflow-x:auto;line-height:normal;font-family:Menlo,'DejaVu Sans Mono',consolas,'Courier New',monospace\"></pre>\n"
      ],
      "text/plain": []
     },
     "metadata": {},
     "output_type": "display_data"
    },
    {
     "data": {
      "text/html": [
       "\n",
       "            <style>\n",
       "                .geemap-dark {\n",
       "                    --jp-widgets-color: white;\n",
       "                    --jp-widgets-label-color: white;\n",
       "                    --jp-ui-font-color1: white;\n",
       "                    --jp-layout-color2: #454545;\n",
       "                    background-color: #383838;\n",
       "                }\n",
       "                    \n",
       "                .geemap-dark .jupyter-button {\n",
       "                    --jp-layout-color3: #383838;\n",
       "                }\n",
       "                \n",
       "                .geemap-colab {\n",
       "                    background-color: var(--colab-primary-surface-color, white);\n",
       "                }\n",
       "                    \n",
       "                .geemap-colab .jupyter-button {\n",
       "                    --jp-layout-color3: var(--colab-primary-surface-color, white);\n",
       "                }\n",
       "            </style>\n",
       "            "
      ],
      "text/plain": [
       "\u001b[1m<\u001b[0m\u001b[1;95mIPython.core.display.HTML\u001b[0m\u001b[39m object\u001b[0m\u001b[1m>\u001b[0m"
      ]
     },
     "metadata": {},
     "output_type": "display_data"
    }
   ],
   "source": [
    "dates_list=ee.List(S2_raw.toList(S2_raw.size()).map(dateFormat)).distinct()"
   ]
  },
  {
   "cell_type": "code",
   "execution_count": 18,
   "id": "6dd554a2-c033-4fc6-ad29-8dfa879d01bb",
   "metadata": {
    "id": "6dd554a2-c033-4fc6-ad29-8dfa879d01bb",
    "outputId": "d266926a-6cdc-4890-951d-118958d17072"
   },
   "outputs": [
    {
     "data": {
      "text/html": [
       "<pre style=\"white-space:pre;overflow-x:auto;line-height:normal;font-family:Menlo,'DejaVu Sans Mono',consolas,'Courier New',monospace\"></pre>\n"
      ],
      "text/plain": []
     },
     "metadata": {},
     "output_type": "display_data"
    },
    {
     "data": {
      "text/html": [
       "\n",
       "            <style>\n",
       "                .geemap-dark {\n",
       "                    --jp-widgets-color: white;\n",
       "                    --jp-widgets-label-color: white;\n",
       "                    --jp-ui-font-color1: white;\n",
       "                    --jp-layout-color2: #454545;\n",
       "                    background-color: #383838;\n",
       "                }\n",
       "                    \n",
       "                .geemap-dark .jupyter-button {\n",
       "                    --jp-layout-color3: #383838;\n",
       "                }\n",
       "                \n",
       "                .geemap-colab {\n",
       "                    background-color: var(--colab-primary-surface-color, white);\n",
       "                }\n",
       "                    \n",
       "                .geemap-colab .jupyter-button {\n",
       "                    --jp-layout-color3: var(--colab-primary-surface-color, white);\n",
       "                }\n",
       "            </style>\n",
       "            "
      ],
      "text/plain": [
       "\u001b[1m<\u001b[0m\u001b[1;95mIPython.core.display.HTML\u001b[0m\u001b[39m object\u001b[0m\u001b[1m>\u001b[0m"
      ]
     },
     "metadata": {},
     "output_type": "display_data"
    },
    {
     "data": {
      "text/html": [
       "<pre style=\"white-space:pre;overflow-x:auto;line-height:normal;font-family:Menlo,'DejaVu Sans Mono',consolas,'Courier New',monospace\"></pre>\n"
      ],
      "text/plain": []
     },
     "metadata": {},
     "output_type": "display_data"
    },
    {
     "data": {
      "text/html": [
       "<div><style>:root {\n",
       "  --font-color-primary: var(--jp-content-font-color0, rgba(0, 0, 0, 1));\n",
       "  --font-color-secondary: var(--jp-content-font-color2, rgba(0, 0, 0, 0.6));\n",
       "  --font-color-accent: rgba(123, 31, 162, 1);\n",
       "  --border-color: var(--jp-border-color2, #e0e0e0);\n",
       "  --background-color: var(--jp-layout-color0, white);\n",
       "  --background-color-row-even: var(--jp-layout-color1, white);\n",
       "  --background-color-row-odd: var(--jp-layout-color2, #eeeeee);\n",
       "}\n",
       "\n",
       "html[theme=\"dark\"],\n",
       "body[data-theme=\"dark\"],\n",
       "body.vscode-dark {\n",
       "  --font-color-primary: rgba(255, 255, 255, 1);\n",
       "  --font-color-secondary: rgba(255, 255, 255, 0.6);\n",
       "  --font-color-accent: rgb(173, 132, 190);\n",
       "  --border-color: #2e2e2e;\n",
       "  --background-color: #111111;\n",
       "  --background-color-row-even: #111111;\n",
       "  --background-color-row-odd: #313131;\n",
       "}\n",
       "\n",
       ".ee {\n",
       "  padding: 1em;\n",
       "  line-height: 1.5em;\n",
       "  min-width: 300px;\n",
       "  max-width: 1200px;\n",
       "  overflow-y: scroll;\n",
       "  max-height: 600px;\n",
       "  border: 1px solid var(--border-color);\n",
       "  font-family: monospace;\n",
       "}\n",
       "\n",
       ".ee li {\n",
       "  list-style-type: none;\n",
       "}\n",
       "\n",
       ".ee ul {\n",
       "  padding-left: 1.5em !important;\n",
       "  margin: 0;\n",
       "}\n",
       "\n",
       ".ee > ul {\n",
       "  padding-left: 0 !important;\n",
       "}\n",
       "\n",
       ".ee-open,\n",
       ".ee-shut {\n",
       "  color: var(--font-color-secondary);\n",
       "  cursor: pointer;\n",
       "  margin: 0;\n",
       "}\n",
       "\n",
       ".ee-open:hover,\n",
       ".ee-shut:hover {\n",
       "  color: var(--font-color-primary);\n",
       "}\n",
       "\n",
       ".ee-k {\n",
       "  color: var(--font-color-accent);\n",
       "  margin-right: 6px;\n",
       "}\n",
       "\n",
       ".ee-v {\n",
       "  color: var(--font-color-primary);\n",
       "}\n",
       "\n",
       ".ee-toggle {\n",
       "  display: none;\n",
       "}\n",
       "\n",
       ".ee-shut + ul {\n",
       "  display: none;\n",
       "}\n",
       "\n",
       ".ee-open + ul {\n",
       "  display: block;\n",
       "}\n",
       "\n",
       ".ee-shut::before {\n",
       "  display: inline-block;\n",
       "  content: \"▼\";\n",
       "  margin-right: 6px;\n",
       "  transform: rotate(-90deg);\n",
       "  transition: transform 0.2s;\n",
       "}\n",
       "\n",
       ".ee-open::before {\n",
       "  transform: rotate(0deg);\n",
       "  display: inline-block;\n",
       "  content: \"▼\";\n",
       "  margin-right: 6px;\n",
       "  transition: transform 0.2s;\n",
       "}\n",
       "</style><div class='ee'><ul><li><label class='ee-shut'>List (80 elements)<input type='checkbox' class='ee-toggle'></label><ul><li><span class='ee-k'>0:</span><span class='ee-v'>2023-01-09</span></li><li><span class='ee-k'>1:</span><span class='ee-v'>2023-01-17</span></li><li><span class='ee-k'>2:</span><span class='ee-v'>2023-01-27</span></li><li><span class='ee-k'>3:</span><span class='ee-v'>2023-02-01</span></li><li><span class='ee-k'>4:</span><span class='ee-v'>2023-02-03</span></li><li><span class='ee-k'>5:</span><span class='ee-v'>2023-02-08</span></li><li><span class='ee-k'>6:</span><span class='ee-v'>2023-02-11</span></li><li><span class='ee-k'>7:</span><span class='ee-v'>2023-02-18</span></li><li><span class='ee-k'>8:</span><span class='ee-v'>2023-03-05</span></li><li><span class='ee-k'>9:</span><span class='ee-v'>2023-03-10</span></li><li><span class='ee-k'>10:</span><span class='ee-v'>2023-03-18</span></li><li><span class='ee-k'>11:</span><span class='ee-v'>2023-03-20</span></li><li><span class='ee-k'>12:</span><span class='ee-v'>2023-03-30</span></li><li><span class='ee-k'>13:</span><span class='ee-v'>2023-04-02</span></li><li><span class='ee-k'>14:</span><span class='ee-v'>2023-04-04</span></li><li><span class='ee-k'>15:</span><span class='ee-v'>2023-04-09</span></li><li><span class='ee-k'>16:</span><span class='ee-v'>2023-04-12</span></li><li><span class='ee-k'>17:</span><span class='ee-v'>2023-04-14</span></li><li><span class='ee-k'>18:</span><span class='ee-v'>2023-04-24</span></li><li><span class='ee-k'>19:</span><span class='ee-v'>2023-05-07</span></li><li><span class='ee-k'>20:</span><span class='ee-v'>2023-05-09</span></li><li><span class='ee-k'>21:</span><span class='ee-v'>2023-05-12</span></li><li><span class='ee-k'>22:</span><span class='ee-v'>2023-05-14</span></li><li><span class='ee-k'>23:</span><span class='ee-v'>2023-05-17</span></li><li><span class='ee-k'>24:</span><span class='ee-v'>2023-05-19</span></li><li><span class='ee-k'>25:</span><span class='ee-v'>2023-05-22</span></li><li><span class='ee-k'>26:</span><span class='ee-v'>2023-05-24</span></li><li><span class='ee-k'>27:</span><span class='ee-v'>2023-05-27</span></li><li><span class='ee-k'>28:</span><span class='ee-v'>2023-05-29</span></li><li><span class='ee-k'>29:</span><span class='ee-v'>2023-06-06</span></li><li><span class='ee-k'>30:</span><span class='ee-v'>2023-06-11</span></li><li><span class='ee-k'>31:</span><span class='ee-v'>2023-06-13</span></li><li><span class='ee-k'>32:</span><span class='ee-v'>2023-06-16</span></li><li><span class='ee-k'>33:</span><span class='ee-v'>2023-06-21</span></li><li><span class='ee-k'>34:</span><span class='ee-v'>2023-06-23</span></li><li><span class='ee-k'>35:</span><span class='ee-v'>2023-07-06</span></li><li><span class='ee-k'>36:</span><span class='ee-v'>2023-07-08</span></li><li><span class='ee-k'>37:</span><span class='ee-v'>2023-07-11</span></li><li><span class='ee-k'>38:</span><span class='ee-v'>2023-07-13</span></li><li><span class='ee-k'>39:</span><span class='ee-v'>2023-07-18</span></li><li><span class='ee-k'>40:</span><span class='ee-v'>2023-07-23</span></li><li><span class='ee-k'>41:</span><span class='ee-v'>2023-07-26</span></li><li><span class='ee-k'>42:</span><span class='ee-v'>2023-07-28</span></li><li><span class='ee-k'>43:</span><span class='ee-v'>2023-08-02</span></li><li><span class='ee-k'>44:</span><span class='ee-v'>2023-08-05</span></li><li><span class='ee-k'>45:</span><span class='ee-v'>2023-08-12</span></li><li><span class='ee-k'>46:</span><span class='ee-v'>2023-08-20</span></li><li><span class='ee-k'>47:</span><span class='ee-v'>2023-08-22</span></li><li><span class='ee-k'>48:</span><span class='ee-v'>2023-09-01</span></li><li><span class='ee-k'>49:</span><span class='ee-v'>2023-09-04</span></li><li><span class='ee-k'>50:</span><span class='ee-v'>2023-09-06</span></li><li><span class='ee-k'>51:</span><span class='ee-v'>2023-09-09</span></li><li><span class='ee-k'>52:</span><span class='ee-v'>2023-09-14</span></li><li><span class='ee-k'>53:</span><span class='ee-v'>2023-09-19</span></li><li><span class='ee-k'>54:</span><span class='ee-v'>2023-09-21</span></li><li><span class='ee-k'>55:</span><span class='ee-v'>2023-09-26</span></li><li><span class='ee-k'>56:</span><span class='ee-v'>2023-10-01</span></li><li><span class='ee-k'>57:</span><span class='ee-v'>2023-10-04</span></li><li><span class='ee-k'>58:</span><span class='ee-v'>2023-10-09</span></li><li><span class='ee-k'>59:</span><span class='ee-v'>2023-10-11</span></li><li><span class='ee-k'>60:</span><span class='ee-v'>2023-10-14</span></li><li><span class='ee-k'>61:</span><span class='ee-v'>2023-10-19</span></li><li><span class='ee-k'>62:</span><span class='ee-v'>2023-10-24</span></li><li><span class='ee-k'>63:</span><span class='ee-v'>2023-10-26</span></li><li><span class='ee-k'>64:</span><span class='ee-v'>2023-10-31</span></li><li><span class='ee-k'>65:</span><span class='ee-v'>2023-11-03</span></li><li><span class='ee-k'>66:</span><span class='ee-v'>2023-11-05</span></li><li><span class='ee-k'>67:</span><span class='ee-v'>2023-11-08</span></li><li><span class='ee-k'>68:</span><span class='ee-v'>2023-11-13</span></li><li><span class='ee-k'>69:</span><span class='ee-v'>2023-11-15</span></li><li><span class='ee-k'>70:</span><span class='ee-v'>2023-11-20</span></li><li><span class='ee-k'>71:</span><span class='ee-v'>2023-11-23</span></li><li><span class='ee-k'>72:</span><span class='ee-v'>2023-11-25</span></li><li><span class='ee-k'>73:</span><span class='ee-v'>2023-11-28</span></li><li><span class='ee-k'>74:</span><span class='ee-v'>2023-11-30</span></li><li><span class='ee-k'>75:</span><span class='ee-v'>2023-12-08</span></li><li><span class='ee-k'>76:</span><span class='ee-v'>2023-12-13</span></li><li><span class='ee-k'>77:</span><span class='ee-v'>2023-12-20</span></li><li><span class='ee-k'>78:</span><span class='ee-v'>2023-12-23</span></li><li><span class='ee-k'>79:</span><span class='ee-v'>2023-12-25</span></li></ul></li></ul></div><script>function toggleHeader() {\n",
       "    const parent = this.parentElement;\n",
       "    parent.className = parent.className === \"ee-open\" ? \"ee-shut\" : \"ee-open\";\n",
       "}\n",
       "\n",
       "for (let c of document.getElementsByClassName(\"ee-toggle\")) {\n",
       "    c.onclick = toggleHeader;\n",
       "}</script></div>"
      ],
      "text/plain": [
       "\u001b[1m<\u001b[0m\u001b[1;95mee.ee_list.List\u001b[0m\u001b[39m object at \u001b[0m\u001b[1;36m0x0000023E11F1AC90\u001b[0m\u001b[1m>\u001b[0m"
      ]
     },
     "execution_count": 18,
     "metadata": {},
     "output_type": "execute_result"
    }
   ],
   "source": [
    "dates_list"
   ]
  },
  {
   "cell_type": "code",
   "execution_count": null,
   "id": "xLtqLjSZKCZa",
   "metadata": {
    "colab": {
     "base_uri": "https://localhost:8080/",
     "height": 17
    },
    "id": "xLtqLjSZKCZa",
    "outputId": "227c01b0-2157-455b-e0e9-afae00813022"
   },
   "outputs": [
    {
     "data": {
      "text/html": [
       "<pre style=\"white-space:pre;overflow-x:auto;line-height:normal;font-family:Menlo,'DejaVu Sans Mono',consolas,'Courier New',monospace\"></pre>\n"
      ],
      "text/plain": []
     },
     "metadata": {},
     "output_type": "display_data"
    },
    {
     "data": {
      "text/html": [
       "\n",
       "            <style>\n",
       "                .geemap-dark {\n",
       "                    --jp-widgets-color: white;\n",
       "                    --jp-widgets-label-color: white;\n",
       "                    --jp-ui-font-color1: white;\n",
       "                    --jp-layout-color2: #454545;\n",
       "                    background-color: #383838;\n",
       "                }\n",
       "                    \n",
       "                .geemap-dark .jupyter-button {\n",
       "                    --jp-layout-color3: #383838;\n",
       "                }\n",
       "                \n",
       "                .geemap-colab {\n",
       "                    background-color: var(--colab-primary-surface-color, white);\n",
       "                }\n",
       "                    \n",
       "                .geemap-colab .jupyter-button {\n",
       "                    --jp-layout-color3: var(--colab-primary-surface-color, white);\n",
       "                }\n",
       "            </style>\n",
       "            "
      ],
      "text/plain": [
       "\u001b[1m<\u001b[0m\u001b[1;95mIPython.core.display.HTML\u001b[0m\u001b[39m object\u001b[0m\u001b[1m>\u001b[0m"
      ]
     },
     "metadata": {},
     "output_type": "display_data"
    }
   ],
   "source": [
    "NLCD2019lc=ee.Image('USGS/NLCD_RELEASES/2019_REL/NLCD/2019').clip(Charles).select('landcover')"
   ]
  },
  {
   "cell_type": "code",
   "execution_count": null,
   "id": "dc1839c9-5a9c-4432-a62b-03f2b57013e7",
   "metadata": {
    "id": "dc1839c9-5a9c-4432-a62b-03f2b57013e7"
   },
   "outputs": [],
   "source": [
    "S2_fix=ee.ImageCollection(dates_list.map(mosaicBy)).map(mask_s2_clouds).map(preprocess)\n",
    "S2_for_export=S2_fix.map(mask_forests)"
   ]
  },
  {
   "cell_type": "code",
   "execution_count": null,
   "id": "b071fd49-4304-43f3-aa8a-05de833b11d2",
   "metadata": {
    "id": "b071fd49-4304-43f3-aa8a-05de833b11d2"
   },
   "outputs": [],
   "source": [
    "#Getting Boston city boundary\n",
    "towns=gpd.read_file('/content/CENSUS2020TOWNS_POLY.shp').to_crs(epsg=4326).dissolve('NAMELSAD20')\n",
    "Boston_gdf=towns[towns.index=='Boston city']\n",
    "Boston=geemap.geopandas_to_ee(Boston_gdf)"
   ]
  },
  {
   "cell_type": "code",
   "execution_count": null,
   "id": "e39e15f7-1e1c-44ff-9032-a76abadd397e",
   "metadata": {
    "id": "e39e15f7-1e1c-44ff-9032-a76abadd397e"
   },
   "outputs": [],
   "source": [
    "#Extract forest areas\n",
    "d_forest=NLCD2019lc.updateMask(NLCD2019lc.eq(41)).select('landcover').clip(Boston)\n",
    "d_forest_vec=d_forest.reduceToVectors(geometry=Charles,crs=d_forest.projection())\n",
    "\n",
    "d_forest_gdf = ee.data.computeFeatures({\n",
    "    'expression': d_forest_vec,\n",
    "    'fileFormat': 'GEOPANDAS_GEODATAFRAME'\n",
    "})\n",
    "d_forest_gdf.crs = 'EPSG:4326'\n",
    "forest_list=d_forest_vec.toList(10000)"
   ]
  },
  {
   "cell_type": "code",
   "execution_count": null,
   "id": "5oZy-BAa1P3n",
   "metadata": {
    "id": "5oZy-BAa1P3n"
   },
   "outputs": [],
   "source": []
  },
  {
   "cell_type": "code",
   "execution_count": null,
   "id": "32bfc616-a590-4009-8e62-653e5d57c12d",
   "metadata": {
    "id": "32bfc616-a590-4009-8e62-653e5d57c12d"
   },
   "outputs": [],
   "source": [
    "for band in ['B2','B3','B4','B5_10m','B6_10m','B7_10m','B8','B8A_10m','B11_10m','B12_10m',\n",
    "                         'NDVI','NBR','SAVI','RENDVI','EVI']:\n",
    "    current_IC=S2_for_export.select(band)\n",
    "    current_df=pd.DataFrame(data=current_IC.getRegion(ee.Feature(forest_list.get(0)).geometry(),10).getInfo()[1:],columns=current_IC.getRegion(ee.Feature(forest_list.get(0)).geometry(),10).getInfo()[0])\n",
    "    for i in np.arange(1,168):\n",
    "      print(i)\n",
    "      print(current_df.size)\n",
    "      current_df=pd.concat([current_df,pd.DataFrame(data=current_IC.getRegion(ee.Feature(forest_list.get(int(i))).geometry(),10).getInfo()[1:],columns=current_IC.getRegion(ee.Feature(forest_list.get(int(i))).geometry(),10).getInfo()[0])])\n",
    "    current_df.to_csv(band+'.csv')"
   ]
  }
 ],
 "metadata": {
  "colab": {
   "provenance": []
  },
  "kernelspec": {
   "display_name": "Python 3 (ipykernel)",
   "language": "python",
   "name": "python3"
  },
  "language_info": {
   "codemirror_mode": {
    "name": "ipython",
    "version": 3
   },
   "file_extension": ".py",
   "mimetype": "text/x-python",
   "name": "python",
   "nbconvert_exporter": "python",
   "pygments_lexer": "ipython3",
   "version": "3.11.7"
  }
 },
 "nbformat": 4,
 "nbformat_minor": 5
}
